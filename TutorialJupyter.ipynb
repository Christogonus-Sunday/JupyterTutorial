{
 "cells": [
  {
   "cell_type": "markdown",
   "metadata": {},
   "source": [
    "# Introduction to Jupyter Notebooks http://jupyter.org\n",
    "\n",
    "Tutorial by Javier Sánchez"
   ]
  },
  {
   "cell_type": "markdown",
   "metadata": {},
   "source": [
    "**Requirements:**\n",
    " * anaconda (includes jupyter, astropy, numpy, scipy and matplotlib)\n",
    " * seaborn (pip install seaborn or conda install seaborn) \n",
    " * bokeh (pip install bokeh or conda install bokeh)\n",
    " * sklearn (pip install sklearn, conda install sklearn)"
   ]
  },
  {
   "cell_type": "markdown",
   "metadata": {},
   "source": [
    "Jupyter creates an easy-to-read document that you can view in your web-browser with code (that runs and creates plots inside the document on the fly!) and text (with even math). The name \"Jupyter\" is a combination of Julia, Python, and R. However, it has support for over 40 programming languages. Jupyter is based on iPython notebooks, and, in fact you can still launch jupyter by typing ```ipython notebook``` on your terminal."
   ]
  },
  {
   "cell_type": "markdown",
   "metadata": {},
   "source": [
    "The concept is similar to Mathematica and it works similarly (to run a **cell** you can press ```shift+enter```)"
   ]
  },
  {
   "cell_type": "markdown",
   "metadata": {},
   "source": [
    "## 1) How to launch Jupyter"
   ]
  },
  {
   "cell_type": "markdown",
   "metadata": {},
   "source": [
    "You can launch a Jupyter notebook by just typing ```jupyter notebook``` on your terminal and this will open a new tab or window on your default browser. You can also select a different browser by setting the environment variable ```$BROWSER``` to the path of the browser that you want to use before launching or using the ```--browser``` option in the command line. In Windows under \"Search programs and files\" from the Start menu, type ```jupyter notebook``` and select \"Jupyter notebook.\""
   ]
  },
  {
   "cell_type": "markdown",
   "metadata": {},
   "source": [
    "## 2) Cells"
   ]
  },
  {
   "cell_type": "markdown",
   "metadata": {},
   "source": [
    "A Jupyter notebook consists on a JSON document. Each segment of this document is a cell. There are several types of cells but we are interested mainly in two:"
   ]
  },
  {
   "cell_type": "markdown",
   "metadata": {},
   "source": [
    "**2.1. Markdown cells**: Markdown cells are used for body-text, the format is as defined in GitHub-flavored markdown. A fast cheatsheet can be found here: https://github.com/adam-p/markdown-here/wiki/Markdown-Cheatsheet"
   ]
  },
  {
   "cell_type": "markdown",
   "metadata": {},
   "source": [
    "**2.2 Code cells**: These contain source code in the language of the document’s associated kernel."
   ]
  },
  {
   "cell_type": "markdown",
   "metadata": {},
   "source": [
    "More info: https://ipython.org/ipython-doc/3/notebook/nbformat.html"
   ]
  },
  {
   "cell_type": "markdown",
   "metadata": {},
   "source": [
    "## 3) Getting Started: Boilerplate and \"magic functions\""
   ]
  },
  {
   "cell_type": "markdown",
   "metadata": {},
   "source": [
    "We will now focus on Python. To start a notebook it is a good practice to import all the packages and define the styles that we want to use in our \"boilerplate\". A typical example could be:"
   ]
  },
  {
   "cell_type": "markdown",
   "metadata": {},
   "source": [
    "```import numpy as np\n",
    "import matplotlib.pyplot as plt```"
   ]
  },
  {
   "cell_type": "markdown",
   "metadata": {},
   "source": [
    "With these commands we set up our notebook to use the numpy package and the matplotlib package. If we use them like that, the plots will pop-up in a new window instead of being shown in the notebook. To see them in the notebook we should use a \"magic function\".\n",
    "\n",
    "There are two kinds of magics, line-oriented and cell-oriented. Line magics are prefixed with the % character and work much like OS command-line calls: they get as an argument the rest of the line, where arguments are passed without parentheses or quotes. Cell magics are prefixed with a double %%, and they are functions that get as an argument not only the rest of the line, but also the lines below it in a separate argument. A useful example is:"
   ]
  },
  {
   "cell_type": "code",
   "execution_count": 2,
   "metadata": {
    "collapsed": false
   },
   "outputs": [
    {
     "name": "stdout",
     "output_type": "stream",
     "text": [
      "Populating the interactive namespace from numpy and matplotlib\n"
     ]
    }
   ],
   "source": [
    "%pylab inline"
   ]
  },
  {
   "cell_type": "markdown",
   "metadata": {},
   "source": [
    "The magic ```%pylab``` sets up the interactive namespace from numpy and matplotlib and ```inline``` adds the plots to the notebook. These plots are rendered in PNG format by default."
   ]
  },
  {
   "cell_type": "markdown",
   "metadata": {},
   "source": [
    "More useful magic commands:"
   ]
  },
  {
   "cell_type": "markdown",
   "metadata": {},
   "source": [
    " * ```%time``` ```%timeit``` measure execution time.\n",
    " * ```%run``` runs a Python script and loads all its data on the interactive namespace.\n",
    " * ```%config InlineBackend.figure_formats = {'png', 'retina'}``` Enables high-resolution PNG rendering and if we change ```'png'``` by ```'svg'``` or any other format we change the format of the redered plots.\n",
    " * ```%matplotlib inline``` just makes the plots to appear in the notebook. The difference with ```%pylab inline``` is that the latter also imports matplotlib.pyplot and numpy. For this one you have to import matplotlib.pyplot first."
   ]
  },
  {
   "cell_type": "markdown",
   "metadata": {},
   "source": [
    "The magic ```%load``` is really useful since it allows us to load any other Python script. It has the option ```-s``` that allows us to modify the code inside the notebook"
   ]
  },
  {
   "cell_type": "markdown",
   "metadata": {},
   "source": [
    "Command line magic: You can run any system shell command using ```!``` before it. Example:"
   ]
  },
  {
   "cell_type": "code",
   "execution_count": 3,
   "metadata": {
    "collapsed": false
   },
   "outputs": [
    {
     "name": "stdout",
     "output_type": "stream",
     "text": [
      "LICENSE.md            \u001b[34mdownloaded_data\u001b[m\u001b[m       exercise3.ipynb\r\n",
      "README.md             exercise1.ipynb\r\n",
      "TutorialJupyter.ipynb exercise2.ipynb\r\n"
     ]
    }
   ],
   "source": [
    "!ls"
   ]
  },
  {
   "cell_type": "markdown",
   "metadata": {},
   "source": [
    "Advanced magic commands:\n",
    "\n",
    " * ```%load_ext Cython```\n",
    " * ```%cython``` or ```%%cython```"
   ]
  },
  {
   "cell_type": "markdown",
   "metadata": {},
   "source": [
    "More on \"magics\": \n",
    " * https://ipython.org/ipython-doc/3/interactive/magics.html\n",
    " * https://ipython.org/ipython-doc/3/interactive/tutorial.html"
   ]
  },
  {
   "cell_type": "markdown",
   "metadata": {},
   "source": [
    "## 4) Numpy"
   ]
  },
  {
   "cell_type": "markdown",
   "metadata": {},
   "source": [
    "Numpy is a Python package that implements N-dimensional array objects and it is designed for scientific computing. It also implments multitude of mathematical functions to operate with these arrays. The use of numpy arrays can boost the performance of your Python script. Some useful examples and tutorials can be found here: http://www.scipy-lectures.org/intro/numpy/index.html, http://cs231n.github.io/python-numpy-tutorial/"
   ]
  },
  {
   "cell_type": "code",
   "execution_count": 4,
   "metadata": {
    "collapsed": true
   },
   "outputs": [],
   "source": [
    "#Example of how to compute the sum of two lists\n",
    "def add(x,y):\n",
    "    add=0\n",
    "    for element_x in x:\n",
    "        add=add+element_x\n",
    "    for element_y in y:\n",
    "        add=add+element_y\n",
    "    return add"
   ]
  },
  {
   "cell_type": "code",
   "execution_count": 5,
   "metadata": {
    "collapsed": true
   },
   "outputs": [],
   "source": [
    "my_list = range(0,100)"
   ]
  },
  {
   "cell_type": "code",
   "execution_count": 6,
   "metadata": {
    "collapsed": false
   },
   "outputs": [
    {
     "name": "stdout",
     "output_type": "stream",
     "text": [
      "[0, 1, 2, 3, 4, 5, 6, 7, 8, 9, 10, 11, 12, 13, 14, 15, 16, 17, 18, 19, 20, 21, 22, 23, 24, 25, 26, 27, 28, 29, 30, 31, 32, 33, 34, 35, 36, 37, 38, 39, 40, 41, 42, 43, 44, 45, 46, 47, 48, 49, 50, 51, 52, 53, 54, 55, 56, 57, 58, 59, 60, 61, 62, 63, 64, 65, 66, 67, 68, 69, 70, 71, 72, 73, 74, 75, 76, 77, 78, 79, 80, 81, 82, 83, 84, 85, 86, 87, 88, 89, 90, 91, 92, 93, 94, 95, 96, 97, 98, 99]\n"
     ]
    }
   ],
   "source": [
    "print(my_list)"
   ]
  },
  {
   "cell_type": "code",
   "execution_count": 7,
   "metadata": {
    "collapsed": false
   },
   "outputs": [
    {
     "name": "stdout",
     "output_type": "stream",
     "text": [
      "10 loops, best of 3: 50.3 µs per loop\n"
     ]
    }
   ],
   "source": [
    "%timeit -n10 sum_1=add(my_list,my_list) #I compute 10 iterations"
   ]
  },
  {
   "cell_type": "code",
   "execution_count": 8,
   "metadata": {
    "collapsed": false
   },
   "outputs": [
    {
     "name": "stdout",
     "output_type": "stream",
     "text": [
      "[ 0  1  2  3  4  5  6  7  8  9 10 11 12 13 14 15 16 17 18 19 20 21 22 23 24\n",
      " 25 26 27 28 29 30 31 32 33 34 35 36 37 38 39 40 41 42 43 44 45 46 47 48 49\n",
      " 50 51 52 53 54 55 56 57 58 59 60 61 62 63 64 65 66 67 68 69 70 71 72 73 74\n",
      " 75 76 77 78 79 80 81 82 83 84 85 86 87 88 89 90 91 92 93 94 95 96 97 98 99]\n"
     ]
    }
   ],
   "source": [
    "#Example using numpy arrays\n",
    "my_array = np.arange(0,100,1)\n",
    "print(my_array)"
   ]
  },
  {
   "cell_type": "code",
   "execution_count": 9,
   "metadata": {
    "collapsed": false
   },
   "outputs": [
    {
     "name": "stdout",
     "output_type": "stream",
     "text": [
      "10 loops, best of 3: 11.3 µs per loop\n"
     ]
    }
   ],
   "source": [
    "%timeit -n10 np.sum(my_array+my_array) #I compute 10 iterations"
   ]
  },
  {
   "cell_type": "markdown",
   "metadata": {},
   "source": [
    "The improvement is especially significant when you have to use vectors or matrices"
   ]
  },
  {
   "cell_type": "markdown",
   "metadata": {},
   "source": [
    "**Exercise 1: Compute the product element by element of a 2x2 list. Compare with numpy**"
   ]
  },
  {
   "cell_type": "code",
   "execution_count": 10,
   "metadata": {
    "collapsed": false
   },
   "outputs": [],
   "source": [
    "#%load ex1.py\n",
    "#my_list = [[1,2],[3,4]]\n",
    "#my_array=np.arange(1,5,1)\n",
    "#my_array=my_array.reshape(2,2)"
   ]
  },
  {
   "cell_type": "markdown",
   "metadata": {},
   "source": [
    "A very useful feature of numpy are masks and masked arrays. You can easily select all the values of a vector or an array that fulfill certain condition using a mask."
   ]
  },
  {
   "cell_type": "code",
   "execution_count": 11,
   "metadata": {
    "collapsed": false
   },
   "outputs": [],
   "source": [
    "#In this example we will split a random array into three different categories taking advantage of the numpy masks\n",
    "#We generate an array with 1000 random elements in the interval [0,1)\n",
    "my_array = np.random.random(1000)"
   ]
  },
  {
   "cell_type": "code",
   "execution_count": 12,
   "metadata": {
    "collapsed": false
   },
   "outputs": [
    {
     "name": "stdout",
     "output_type": "stream",
     "text": [
      "CPU times: user 424 µs, sys: 95 µs, total: 519 µs\n",
      "Wall time: 469 µs\n"
     ]
    }
   ],
   "source": [
    "%time mask = [np.logical_and(my_array>i/3.,my_array<(i+1)/3.) for i in range(0,3)]"
   ]
  },
  {
   "cell_type": "code",
   "execution_count": 13,
   "metadata": {
    "collapsed": false
   },
   "outputs": [
    {
     "name": "stdout",
     "output_type": "stream",
     "text": [
      "(347, 336, 317)\n"
     ]
    }
   ],
   "source": [
    "print(len(my_array[mask[0]]), len(my_array[mask[1]]), len(my_array[mask[2]]))"
   ]
  },
  {
   "cell_type": "markdown",
   "metadata": {},
   "source": [
    "Let's compare to a traditional brute-force approach"
   ]
  },
  {
   "cell_type": "code",
   "execution_count": 14,
   "metadata": {
    "collapsed": false
   },
   "outputs": [
    {
     "name": "stdout",
     "output_type": "stream",
     "text": [
      "CPU times: user 2 µs, sys: 1e+03 ns, total: 3 µs\n",
      "Wall time: 5.96 µs\n"
     ]
    }
   ],
   "source": [
    "#This is a very simple implementation. \n",
    "#Maybe sorting the list first or using a matrix instead of lists it would be faster\n",
    "%time #Use %%time for python2.x\n",
    "arr1=[]\n",
    "arr2=[]\n",
    "arr3=[]\n",
    "for element in my_array:\n",
    "    if(element>0 and element<1./3.):\n",
    "        arr1.append(element)\n",
    "    if(element>1./3. and element<2./3.):\n",
    "        arr2.append(element)\n",
    "    else:\n",
    "        arr3.append(element)"
   ]
  },
  {
   "cell_type": "markdown",
   "metadata": {},
   "source": [
    "## 4) Plotting"
   ]
  },
  {
   "cell_type": "markdown",
   "metadata": {},
   "source": [
    "### 4.1) Matplotlib  (http://matplotlib.org)"
   ]
  },
  {
   "cell_type": "markdown",
   "metadata": {},
   "source": [
    "This is the most widespread package for plotting in Python. There are tons of examples on the web, and it is very well integrated in Jupyter."
   ]
  },
  {
   "cell_type": "markdown",
   "metadata": {},
   "source": [
    "Example: Let's plot a sinusoidal wave using matplotlib. (It is imported already since we used the magic ```%pylab inline```)"
   ]
  },
  {
   "cell_type": "code",
   "execution_count": 15,
   "metadata": {
    "collapsed": false
   },
   "outputs": [],
   "source": [
    "#First we are going to set up the plots to be SVGs instead of the default PNGs\n",
    "\n",
    "### Uncomment this cell to use SVG\n",
    "\n",
    "#%config InlineBackend.figure_formats = {'svg',}"
   ]
  },
  {
   "cell_type": "code",
   "execution_count": 16,
   "metadata": {
    "collapsed": true
   },
   "outputs": [],
   "source": [
    "#We will sample the function in 100 points from 0 to pi\n",
    "x = np.linspace(0,np.pi,100)\n",
    "#We compute the sine of the numpy array x\n",
    "y = np.sin(x)"
   ]
  },
  {
   "cell_type": "code",
   "execution_count": 17,
   "metadata": {
    "collapsed": false
   },
   "outputs": [
    {
     "data": {
      "text/plain": [
       "(-0.05, 1.05)"
      ]
     },
     "execution_count": 17,
     "metadata": {},
     "output_type": "execute_result"
    },
    {
     "data": {
      "image/png": "[encoded data removed]",
      "text/plain": [
       "<matplotlib.figure.Figure at 0x1064a9450>"
      ]
     },
     "metadata": {},
     "output_type": "display_data"
    }
   ],
   "source": [
    "#We make the plot (it automatically generates the figure)\n",
    "plt.plot(x,y,'-',color='green',label='$\\sin(x)$')\n",
    "#We add the label to the X and Y axes\n",
    "plt.xlabel('$x$')\n",
    "plt.ylabel('$\\sin(x)$')\n",
    "#We generate the legend\n",
    "plt.legend()\n",
    "#We change the limits of the X and Y axes\n",
    "plt.xlim(-0.05,np.pi+0.05)\n",
    "plt.ylim(-0.05,1.05)"
   ]
  },
  {
   "cell_type": "markdown",
   "metadata": {},
   "source": [
    "**Exercise: Generate and plot a 2D histogram using matplotlib**"
   ]
  },
  {
   "cell_type": "code",
   "execution_count": 18,
   "metadata": {
    "collapsed": true
   },
   "outputs": [],
   "source": [
    "#%load ex2.py"
   ]
  },
  {
   "cell_type": "markdown",
   "metadata": {},
   "source": [
    "### 4.2) Seaborn (https://web.stanford.edu/~mwaskom/software/seaborn/)"
   ]
  },
  {
   "cell_type": "markdown",
   "metadata": {},
   "source": [
    "Seaborn is a Python package based on matplotlib that includes some convenient plotting functions for statistical analysis. (Some people also like more its default style)"
   ]
  },
  {
   "cell_type": "code",
   "execution_count": 19,
   "metadata": {
    "collapsed": false
   },
   "outputs": [
    {
     "name": "stderr",
     "output_type": "stream",
     "text": [
      "/Users/javiers/anaconda/lib/python2.7/site-packages/matplotlib/__init__.py:872: UserWarning: axes.color_cycle is deprecated and replaced with axes.prop_cycle; please use the latter.\n",
      "  warnings.warn(self.msg_depr % (key, alt_key))\n"
     ]
    }
   ],
   "source": [
    "#First let's import seaborn (a warning will appear because it conflicts with %pylab inline)\n",
    "import seaborn as sns"
   ]
  },
  {
   "cell_type": "markdown",
   "metadata": {},
   "source": [
    "#### Warning messages: Jupyter will output with a pink background all its warning messages. Most of them will tell us about deprecation or definition conflicts. The messages only appear the first time you run a cell that arises a warning."
   ]
  },
  {
   "cell_type": "code",
   "execution_count": 20,
   "metadata": {
    "collapsed": false
   },
   "outputs": [
    {
     "data": {
      "text/plain": [
       "(-0.05, 1.05)"
      ]
     },
     "execution_count": 20,
     "metadata": {},
     "output_type": "execute_result"
    },
    {
     "data": {
      "image/png": "[encoded data removed]",
      "text/plain": [
       "<matplotlib.figure.Figure at 0x10a07f810>"
      ]
     },
     "metadata": {},
     "output_type": "display_data"
    }
   ],
   "source": [
    "#Compare with matplotlib style (you can still use the same commands but they will render in seaborn style)\n",
    "#We make the plot (it automatically generates the figure)\n",
    "plt.plot(x,y,'-',color='green',label='$\\sin(x)$')\n",
    "#We add the label to the X and Y axes\n",
    "plt.xlabel('$x$')\n",
    "plt.ylabel('$\\sin(x)$')\n",
    "#We generate the legend\n",
    "plt.legend()\n",
    "#We change the limits of the X and Y axes\n",
    "plt.xlim(-0.05,np.pi+0.05)\n",
    "plt.ylim(-0.05,1.05)"
   ]
  },
  {
   "cell_type": "markdown",
   "metadata": {},
   "source": [
    "**Exercise: Plot again your 2D histogram using seaborn jointplot (https://web.stanford.edu/~mwaskom/software/seaborn/examples/hexbin_marginals.html)**"
   ]
  },
  {
   "cell_type": "code",
   "execution_count": 21,
   "metadata": {
    "collapsed": true
   },
   "outputs": [],
   "source": [
    "#%load ex3.py"
   ]
  },
  {
   "cell_type": "markdown",
   "metadata": {},
   "source": [
    "### 4.3) Bokeh (http://bokeh.pydata.org/en/latest/)\n",
    "\n",
    "Bokeh (apparently pronounced Boh-kay) is an interactive visualization tool in Python and it works very well within jupyter."
   ]
  },
  {
   "cell_type": "code",
   "execution_count": 22,
   "metadata": {
    "collapsed": true
   },
   "outputs": [],
   "source": [
    "# Import Bokeh modules for interactive plotting\n",
    "import bokeh.io\n",
    "import bokeh.mpl\n",
    "import bokeh.plotting"
   ]
  },
  {
   "cell_type": "code",
   "execution_count": 23,
   "metadata": {
    "collapsed": false,
    "scrolled": true
   },
   "outputs": [
    {
     "data": {
      "text/html": [
       "\n",
       "\n",
       "    <script type=\"text/javascript\">\n",
       "      \n",
       "      (function(global) {\n",
       "        function now() {\n",
       "          return new Date();\n",
       "        }\n",
       "      \n",
       "        if (typeof (window._bokeh_onload_callbacks) === \"undefined\") {\n",
       "          window._bokeh_onload_callbacks = [];\n",
       "        }\n",
       "      \n",
       "        function run_callbacks() {\n",
       "          window._bokeh_onload_callbacks.forEach(function(callback) { callback() });\n",
       "          delete window._bokeh_onload_callbacks\n",
       "          console.info(\"Bokeh: all callbacks have finished\");\n",
       "        }\n",
       "      \n",
       "        function load_libs(js_urls, callback) {\n",
       "          window._bokeh_onload_callbacks.push(callback);\n",
       "          if (window._bokeh_is_loading > 0) {\n",
       "            console.log(\"Bokeh: BokehJS is being loaded, scheduling callback at\", now());\n",
       "            return null;\n",
       "          }\n",
       "          if (js_urls == null || js_urls.length === 0) {\n",
       "            run_callbacks();\n",
       "            return null;\n",
       "          }\n",
       "          console.log(\"Bokeh: BokehJS not loaded, scheduling load and callback at\", now());\n",
       "          window._bokeh_is_loading = js_urls.length;\n",
       "          for (var i = 0; i < js_urls.length; i++) {\n",
       "            var url = js_urls[i];\n",
       "            var s = document.createElement('script');\n",
       "            s.src = url;\n",
       "            s.async = false;\n",
       "            s.onreadystatechange = s.onload = function() {\n",
       "              window._bokeh_is_loading--;\n",
       "              if (window._bokeh_is_loading === 0) {\n",
       "                console.log(\"Bokeh: all BokehJS libraries loaded\");\n",
       "                run_callbacks()\n",
       "              }\n",
       "            };\n",
       "            s.onerror = function() {\n",
       "              console.warn(\"failed to load library \" + url);\n",
       "            };\n",
       "            console.log(\"Bokeh: injecting script tag for BokehJS library: \", url);\n",
       "            document.getElementsByTagName(\"head\")[0].appendChild(s);\n",
       "          }\n",
       "        };var js_urls = ['https://cdn.pydata.org/bokeh/release/bokeh-0.11.0.min.js', 'https://cdn.pydata.org/bokeh/release/bokeh-widgets-0.11.0.min.js', 'https://cdn.pydata.org/bokeh/release/bokeh-compiler-0.11.0.min.js'];\n",
       "      \n",
       "        var inline_js = [\n",
       "          function(Bokeh) {\n",
       "            Bokeh.set_log_level(\"info\");\n",
       "          },\n",
       "          function(Bokeh) {\n",
       "            console.log(\"Bokeh: injecting CSS: https://cdn.pydata.org/bokeh/release/bokeh-0.11.0.min.css\");\n",
       "            Bokeh.embed.inject_css(\"https://cdn.pydata.org/bokeh/release/bokeh-0.11.0.min.css\");\n",
       "            console.log(\"Bokeh: injecting CSS: https://cdn.pydata.org/bokeh/release/bokeh-widgets-0.11.0.min.css\");\n",
       "            Bokeh.embed.inject_css(\"https://cdn.pydata.org/bokeh/release/bokeh-widgets-0.11.0.min.css\");\n",
       "          }\n",
       "        ];\n",
       "      \n",
       "        function run_inline_js() {\n",
       "          for (var i = 0; i < inline_js.length; i++) {\n",
       "            inline_js[i](window.Bokeh);\n",
       "          }\n",
       "        }\n",
       "      \n",
       "        if (window._bokeh_is_loading === 0) {\n",
       "          console.log(\"Bokeh: BokehJS loaded, going straight to plotting\");\n",
       "          run_inline_js();\n",
       "        } else {\n",
       "          load_libs(js_urls, function() {\n",
       "            console.log(\"Bokeh: BokehJS plotting callback run at\", now());\n",
       "            run_inline_js();\n",
       "          });\n",
       "        }\n",
       "      }(this));\n",
       "    </script>\n",
       "    <div>\n",
       "        <a href=\"http://bokeh.pydata.org\" target=\"_blank\" class=\"bk-logo bk-logo-small bk-logo-notebook\"></a>\n",
       "        <span>BokehJS successfully loaded.</span>\n",
       "    </div>"
      ]
     },
     "metadata": {},
     "output_type": "display_data"
    }
   ],
   "source": [
    "# Set up Bokeh for inline viewing\n",
    "bokeh.io.output_notebook()"
   ]
  },
  {
   "cell_type": "code",
   "execution_count": 24,
   "metadata": {
    "collapsed": false
   },
   "outputs": [
    {
     "data": {
      "text/html": [
       "\n",
       "\n",
       "    <div class=\"plotdiv\" id=\"27a8c21c-c93e-43a7-b223-d00bd0c9aad2\"></div>\n",
       "<script type=\"text/javascript\">\n",
       "  \n",
       "  (function(global) {\n",
       "    function now() {\n",
       "      return new Date();\n",
       "    }\n",
       "  \n",
       "    if (typeof (window._bokeh_onload_callbacks) === \"undefined\") {\n",
       "      window._bokeh_onload_callbacks = [];\n",
       "    }\n",
       "  \n",
       "    function run_callbacks() {\n",
       "      window._bokeh_onload_callbacks.forEach(function(callback) { callback() });\n",
       "      delete window._bokeh_onload_callbacks\n",
       "      console.info(\"Bokeh: all callbacks have finished\");\n",
       "    }\n",
       "  \n",
       "    function load_libs(js_urls, callback) {\n",
       "      window._bokeh_onload_callbacks.push(callback);\n",
       "      if (window._bokeh_is_loading > 0) {\n",
       "        console.log(\"Bokeh: BokehJS is being loaded, scheduling callback at\", now());\n",
       "        return null;\n",
       "      }\n",
       "      if (js_urls == null || js_urls.length === 0) {\n",
       "        run_callbacks();\n",
       "        return null;\n",
       "      }\n",
       "      console.log(\"Bokeh: BokehJS not loaded, scheduling load and callback at\", now());\n",
       "      window._bokeh_is_loading = js_urls.length;\n",
       "      for (var i = 0; i < js_urls.length; i++) {\n",
       "        var url = js_urls[i];\n",
       "        var s = document.createElement('script');\n",
       "        s.src = url;\n",
       "        s.async = false;\n",
       "        s.onreadystatechange = s.onload = function() {\n",
       "          window._bokeh_is_loading--;\n",
       "          if (window._bokeh_is_loading === 0) {\n",
       "            console.log(\"Bokeh: all BokehJS libraries loaded\");\n",
       "            run_callbacks()\n",
       "          }\n",
       "        };\n",
       "        s.onerror = function() {\n",
       "          console.warn(\"failed to load library \" + url);\n",
       "        };\n",
       "        console.log(\"Bokeh: injecting script tag for BokehJS library: \", url);\n",
       "        document.getElementsByTagName(\"head\")[0].appendChild(s);\n",
       "      }\n",
       "    };var element = document.getElementById(\"27a8c21c-c93e-43a7-b223-d00bd0c9aad2\");\n",
       "    if (element == null) {\n",
       "      console.log(\"Bokeh: ERROR: autoload.js configured with elementid '27a8c21c-c93e-43a7-b223-d00bd0c9aad2' but no matching script tag was found. \")\n",
       "      return false;\n",
       "    }var js_urls = [];\n",
       "  \n",
       "    var inline_js = [\n",
       "      function(Bokeh) {\n",
       "        Bokeh.$(function() {\n",
       "            var docs_json = {\"43e8ffdc-dbef-4bcf-9e86-11d2c1f66128\": {\"version\": \"0.11.0\", \"roots\": {\"root_ids\": [\"f479475c-a04e-413b-9206-019bf5b3fa16\"], \"references\": [{\"attributes\": {\"plot\": {\"type\": \"Plot\", \"id\": \"f479475c-a04e-413b-9206-019bf5b3fa16\"}}, \"type\": \"ResetTool\", \"id\": \"3d5ae580-9803-4d4f-b301-b08bdc272e6d\"}, {\"attributes\": {\"line_color\": {\"value\": \"#008000\"}, \"line_width\": {\"value\": 1.75}, \"y\": {\"field\": \"Series 1\"}, \"x\": {\"field\": \"Series 0\"}}, \"type\": \"Line\", \"id\": \"76adc685-cf5c-400d-b3cd-ba932b5e1123\"}, {\"attributes\": {}, \"type\": \"BasicTicker\", \"id\": \"c9c62e41-e027-4039-87f8-8583d5eb6490\"}, {\"attributes\": {\"plot\": {\"type\": \"Plot\", \"id\": \"f479475c-a04e-413b-9206-019bf5b3fa16\"}}, \"type\": \"PanTool\", \"id\": \"eb1d119e-5d19-4d72-988e-4566e066fe52\"}, {\"attributes\": {\"nonselection_glyph\": null, \"data_source\": {\"type\": \"ColumnDataSource\", \"id\": \"916f7068-a150-409c-8b58-3ac402b326d0\"}, \"selection_glyph\": null, \"hover_glyph\": null, \"glyph\": {\"type\": \"Line\", \"id\": \"70282265-4761-4416-a7b4-5aea30349193\"}}, \"type\": \"GlyphRenderer\", \"id\": \"9c23d7d1-377e-4f52-a7f0-19f118562141\"}, {\"attributes\": {\"plot\": {\"type\": \"Plot\", \"id\": \"f479475c-a04e-413b-9206-019bf5b3fa16\"}, \"axis_label_text_font\": \"sans-serif\", \"axis_label_text_font_size\": {\"value\": \"11.000000pt\"}, \"ticker\": {\"type\": \"BasicTicker\", \"id\": \"7e3374dc-5e0c-4eaa-8288-bda8a775e0d4\"}, \"major_label_text_font\": \"sans-serif\", \"axis_label\": \"$\\\\sin(x)$\", \"formatter\": {\"type\": \"BasicTickFormatter\", \"id\": \"7895ddf1-6cdc-48be-8da3-c3dd3ecd604c\"}, \"major_label_text_font_size\": {\"value\": \"10.000000pt\"}}, \"type\": \"LinearAxis\", \"id\": \"b169f47b-2126-48fb-9321-25406c629cb5\"}, {\"attributes\": {\"line_color\": {\"value\": \"#008000\"}, \"line_width\": {\"value\": 1.75}, \"y\": {\"field\": \"Series 1\"}, \"x\": {\"field\": \"Series 0\"}}, \"type\": \"Line\", \"id\": \"70282265-4761-4416-a7b4-5aea30349193\"}, {\"attributes\": {\"callback\": null}, \"type\": \"DataRange1d\", \"id\": \"bd05dee5-afbe-411c-8a3a-aa9a4a3b2448\"}, {\"attributes\": {}, \"type\": \"ToolEvents\", \"id\": \"1188ad7a-85d4-4364-a1e6-a2b03edbea7f\"}, {\"attributes\": {\"plot\": {\"type\": \"Plot\", \"id\": \"f479475c-a04e-413b-9206-019bf5b3fa16\"}}, \"type\": \"HelpTool\", \"id\": \"a8bc13aa-3bb0-4233-a90a-1424cb82b6de\"}, {\"attributes\": {\"line_color\": {\"value\": \"black\"}, \"line_alpha\": {\"value\": 1.0}, \"render_mode\": \"css\", \"bottom_units\": \"screen\", \"level\": \"overlay\", \"top_units\": \"screen\", \"fill_alpha\": {\"value\": 0.5}, \"plot\": null, \"left_units\": \"screen\", \"line_dash\": [4, 4], \"line_width\": {\"value\": 2}, \"right_units\": \"screen\", \"fill_color\": {\"value\": \"lightgrey\"}}, \"type\": \"BoxAnnotation\", \"id\": \"79aface0-890c-4358-9a91-c6bdb321dd86\"}, {\"attributes\": {\"plot\": {\"type\": \"Plot\", \"id\": \"f479475c-a04e-413b-9206-019bf5b3fa16\"}}, \"type\": \"WheelZoomTool\", \"id\": \"75d520e2-7cb4-44e3-bcd2-c7c13039e86a\"}, {\"attributes\": {\"plot\": {\"type\": \"Plot\", \"id\": \"f479475c-a04e-413b-9206-019bf5b3fa16\"}, \"overlay\": {\"type\": \"BoxAnnotation\", \"id\": \"79aface0-890c-4358-9a91-c6bdb321dd86\"}}, \"type\": \"BoxZoomTool\", \"id\": \"c45fe9dc-49bf-460b-82de-36a520d53914\"}, {\"attributes\": {}, \"type\": \"BasicTickFormatter\", \"id\": \"5ed573a0-d8f5-416c-b00c-10c02dcd8206\"}, {\"attributes\": {\"plot\": {\"type\": \"Plot\", \"id\": \"f479475c-a04e-413b-9206-019bf5b3fa16\"}}, \"type\": \"PreviewSaveTool\", \"id\": \"06542e49-e84d-473d-bf4d-bd2d742e2a94\"}, {\"attributes\": {\"plot\": {\"type\": \"Plot\", \"id\": \"f479475c-a04e-413b-9206-019bf5b3fa16\"}, \"grid_line_color\": {\"value\": \"white\"}, \"ticker\": {\"type\": \"BasicTicker\", \"id\": \"7e3374dc-5e0c-4eaa-8288-bda8a775e0d4\"}, \"dimension\": 1}, \"type\": \"Grid\", \"id\": \"3e0cd2f5-a93f-4e85-9a3f-55be32698a55\"}, {\"attributes\": {\"plot\": {\"type\": \"Plot\", \"id\": \"f479475c-a04e-413b-9206-019bf5b3fa16\"}, \"grid_line_color\": {\"value\": \"white\"}, \"ticker\": {\"type\": \"BasicTicker\", \"id\": \"c9c62e41-e027-4039-87f8-8583d5eb6490\"}}, \"type\": \"Grid\", \"id\": \"e8082d6e-1421-42fe-b681-0285f4ebb563\"}, {\"attributes\": {\"plot\": {\"type\": \"Plot\", \"id\": \"f479475c-a04e-413b-9206-019bf5b3fa16\"}, \"axis_label_text_font\": \"sans-serif\", \"axis_label_text_font_size\": {\"value\": \"11.000000pt\"}, \"ticker\": {\"type\": \"BasicTicker\", \"id\": \"c9c62e41-e027-4039-87f8-8583d5eb6490\"}, \"major_label_text_font\": \"sans-serif\", \"axis_label\": \"$x$\", \"formatter\": {\"type\": \"BasicTickFormatter\", \"id\": \"5ed573a0-d8f5-416c-b00c-10c02dcd8206\"}, \"major_label_text_font_size\": {\"value\": \"10.000000pt\"}}, \"type\": \"LinearAxis\", \"id\": \"0d99f508-1938-470f-b869-c4c4d44cc1eb\"}, {\"attributes\": {\"plot\": {\"type\": \"Plot\", \"id\": \"f479475c-a04e-413b-9206-019bf5b3fa16\"}}, \"type\": \"ResizeTool\", \"id\": \"21f8d403-a738-496e-9cf2-38772f9bafb2\"}, {\"attributes\": {\"callback\": null}, \"type\": \"DataRange1d\", \"id\": \"e3ea0b41-b92b-403f-a8d9-36e3e8fae735\"}, {\"attributes\": {\"plot\": {\"type\": \"Plot\", \"id\": \"f479475c-a04e-413b-9206-019bf5b3fa16\"}, \"legends\": [[\"$\\\\sin(x)$\", [{\"type\": \"GlyphRenderer\", \"id\": \"9c23d7d1-377e-4f52-a7f0-19f118562141\"}]]]}, \"type\": \"Legend\", \"id\": \"ee0bb4de-45bb-4ffc-8d46-00b1ae5be6aa\"}, {\"attributes\": {}, \"type\": \"BasicTickFormatter\", \"id\": \"7895ddf1-6cdc-48be-8da3-c3dd3ecd604c\"}, {\"attributes\": {}, \"type\": \"X\", \"id\": \"1d289554-66fd-4970-8efe-c2c8f6226abf\"}, {\"attributes\": {\"callback\": null, \"column_names\": [\"name\"], \"data\": {\"name\": \"ax_end\"}}, \"type\": \"ColumnDataSource\", \"id\": \"ccfb99fd-f094-40f4-8e6a-fd631a9233eb\"}, {\"attributes\": {\"nonselection_glyph\": null, \"data_source\": {\"type\": \"ColumnDataSource\", \"id\": \"b0730221-c6c5-44f7-8a77-b6b5e2a600d5\"}, \"selection_glyph\": null, \"hover_glyph\": null, \"glyph\": {\"type\": \"Line\", \"id\": \"76adc685-cf5c-400d-b3cd-ba932b5e1123\"}}, \"type\": \"GlyphRenderer\", \"id\": \"0f33e8cc-ffd5-453d-b1bd-ec6e49b24599\"}, {\"attributes\": {\"callback\": null, \"column_names\": [\"Series 0\", \"Series 1\"], \"data\": {\"Series 1\": [0.0, 0.03172793349806765, 0.0634239196565645, 0.09505604330418267, 0.12659245357374926, 0.1580013959733499, 0.18925124436041021, 0.22031053278654064, 0.2511479871810792, 0.28173255684142967, 0.31203344569848707, 0.3420201433256687, 0.3716624556603276, 0.4009305354066137, 0.42979491208917164, 0.4582265217274104, 0.4861967361004687, 0.5136773915734063, 0.5406408174555976, 0.5670598638627707, 0.5929079290546404, 0.6181589862206052, 0.6427876096865393, 0.6667690005162916, 0.690079011482112, 0.7126941713788628, 0.7345917086575333, 0.7557495743542583, 0.7761464642917568, 0.7957618405308321, 0.8145759520503357, 0.8325698546347713, 0.8497254299495144, 0.8660254037844387, 0.8814533634475821, 0.895993774291336, 0.9096319953545183, 0.9223542941045815, 0.9341478602651068, 0.9450008187146686, 0.9549022414440739, 0.963842158559942, 0.9718115683235417, 0.9788024462147787, 0.984807753012208, 0.9898214418809327, 0.9938384644612541, 0.9968547759519424, 0.998867339183008, 0.9998741276738751, 0.9998741276738751, 0.998867339183008, 0.9968547759519424, 0.9938384644612541, 0.9898214418809327, 0.984807753012208, 0.9788024462147787, 0.9718115683235417, 0.963842158559942, 0.9549022414440739, 0.9450008187146685, 0.9341478602651068, 0.9223542941045814, 0.9096319953545184, 0.8959937742913359, 0.8814533634475821, 0.8660254037844386, 0.8497254299495144, 0.8325698546347714, 0.8145759520503358, 0.795761840530832, 0.7761464642917568, 0.7557495743542584, 0.7345917086575334, 0.7126941713788628, 0.6900790114821119, 0.6667690005162916, 0.6427876096865395, 0.6181589862206051, 0.5929079290546404, 0.5670598638627709, 0.5406408174555973, 0.5136773915734063, 0.4861967361004687, 0.4582265217274105, 0.4297949120891714, 0.4009305354066136, 0.3716624556603276, 0.3420201433256689, 0.31203344569848696, 0.2817325568414296, 0.2511479871810793, 0.2203105327865408, 0.18925124436041005, 0.15800139597334986, 0.12659245357374935, 0.09505604330418244, 0.0634239196565644, 0.031727933498067656, 1.2246467991473532e-16], \"Series 0\": [0.0, 0.03173325912716963, 0.06346651825433926, 0.0951997773815089, 0.12693303650867852, 0.15866629563584814, 0.1903995547630178, 0.2221328138901874, 0.25386607301735703, 0.28559933214452665, 0.3173325912716963, 0.3490658503988659, 0.3807991095260356, 0.4125323686532052, 0.4442656277803748, 0.47599888690754444, 0.5077321460347141, 0.5394654051618837, 0.5711986642890533, 0.6029319234162229, 0.6346651825433925, 0.6663984416705622, 0.6981317007977318, 0.7298649599249014, 0.7615982190520711, 0.7933314781792408, 0.8250647373064104, 0.85679799643358, 0.8885312555607496, 0.9202645146879193, 0.9519977738150889, 0.9837310329422585, 1.0154642920694281, 1.0471975511965979, 1.0789308103237674, 1.110664069450937, 1.1423973285781066, 1.1741305877052763, 1.2058638468324459, 1.2375971059596156, 1.269330365086785, 1.3010636242139548, 1.3327968833411243, 1.364530142468294, 1.3962634015954636, 1.4279966607226333, 1.4597299198498028, 1.4914631789769726, 1.5231964381041423, 1.5549296972313118, 1.5866629563584815, 1.618396215485651, 1.6501294746128208, 1.6818627337399903, 1.71359599286716, 1.7453292519943295, 1.7770625111214993, 1.8087957702486688, 1.8405290293758385, 1.872262288503008, 1.9039955476301778, 1.9357288067573473, 1.967462065884517, 1.9991953250116865, 2.0309285841388562, 2.0626618432660258, 2.0943951023931957, 2.126128361520365, 2.1578616206475347, 2.1895948797747042, 2.221328138901874, 2.2530613980290437, 2.284794657156213, 2.3165279162833827, 2.3482611754105527, 2.379994434537722, 2.4117276936648917, 2.443460952792061, 2.475194211919231, 2.5069274710464007, 2.53866073017357, 2.57039398930074, 2.6021272484279097, 2.633860507555079, 2.6655937666822487, 2.6973270258094186, 2.729060284936588, 2.7607935440637577, 2.792526803190927, 2.824260062318097, 2.8559933214452666, 2.887726580572436, 2.9194598396996057, 2.9511930988267756, 2.982926357953945, 3.0146596170811146, 3.0463928762082846, 3.078126135335454, 3.1098593944626236, 3.141592653589793]}}, \"type\": \"ColumnDataSource\", \"id\": \"916f7068-a150-409c-8b58-3ac402b326d0\"}, {\"attributes\": {\"nonselection_glyph\": null, \"data_source\": {\"type\": \"ColumnDataSource\", \"id\": \"ccfb99fd-f094-40f4-8e6a-fd631a9233eb\"}, \"selection_glyph\": null, \"hover_glyph\": null, \"glyph\": {\"type\": \"X\", \"id\": \"1d289554-66fd-4970-8efe-c2c8f6226abf\"}}, \"type\": \"GlyphRenderer\", \"id\": \"394e2e30-1ce2-4339-b6c4-985b1cbf0a5a\"}, {\"attributes\": {\"background_fill_color\": {\"value\": \"#EAEAF2\"}, \"x_range\": {\"type\": \"DataRange1d\", \"id\": \"bd05dee5-afbe-411c-8a3a-aa9a4a3b2448\"}, \"y_range\": {\"type\": \"DataRange1d\", \"id\": \"e3ea0b41-b92b-403f-a8d9-36e3e8fae735\"}, \"renderers\": [{\"type\": \"LinearAxis\", \"id\": \"0d99f508-1938-470f-b869-c4c4d44cc1eb\"}, {\"type\": \"Grid\", \"id\": \"e8082d6e-1421-42fe-b681-0285f4ebb563\"}, {\"type\": \"LinearAxis\", \"id\": \"b169f47b-2126-48fb-9321-25406c629cb5\"}, {\"type\": \"Grid\", \"id\": \"3e0cd2f5-a93f-4e85-9a3f-55be32698a55\"}, {\"type\": \"Legend\", \"id\": \"ee0bb4de-45bb-4ffc-8d46-00b1ae5be6aa\"}, {\"type\": \"GlyphRenderer\", \"id\": \"394e2e30-1ce2-4339-b6c4-985b1cbf0a5a\"}, {\"type\": \"BoxAnnotation\", \"id\": \"79aface0-890c-4358-9a91-c6bdb321dd86\"}, {\"type\": \"GlyphRenderer\", \"id\": \"9c23d7d1-377e-4f52-a7f0-19f118562141\"}, {\"type\": \"GlyphRenderer\", \"id\": \"0f33e8cc-ffd5-453d-b1bd-ec6e49b24599\"}], \"plot_width\": 640, \"below\": [{\"type\": \"LinearAxis\", \"id\": \"0d99f508-1938-470f-b869-c4c4d44cc1eb\"}], \"tool_events\": {\"type\": \"ToolEvents\", \"id\": \"1188ad7a-85d4-4364-a1e6-a2b03edbea7f\"}, \"plot_height\": 440, \"tools\": [{\"type\": \"PanTool\", \"id\": \"eb1d119e-5d19-4d72-988e-4566e066fe52\"}, {\"type\": \"WheelZoomTool\", \"id\": \"75d520e2-7cb4-44e3-bcd2-c7c13039e86a\"}, {\"type\": \"BoxZoomTool\", \"id\": \"c45fe9dc-49bf-460b-82de-36a520d53914\"}, {\"type\": \"PreviewSaveTool\", \"id\": \"06542e49-e84d-473d-bf4d-bd2d742e2a94\"}, {\"type\": \"ResizeTool\", \"id\": \"21f8d403-a738-496e-9cf2-38772f9bafb2\"}, {\"type\": \"ResetTool\", \"id\": \"3d5ae580-9803-4d4f-b301-b08bdc272e6d\"}, {\"type\": \"HelpTool\", \"id\": \"a8bc13aa-3bb0-4233-a90a-1424cb82b6de\"}], \"left\": [{\"type\": \"LinearAxis\", \"id\": \"b169f47b-2126-48fb-9321-25406c629cb5\"}]}, \"type\": \"Plot\", \"id\": \"f479475c-a04e-413b-9206-019bf5b3fa16\"}, {\"attributes\": {}, \"type\": \"BasicTicker\", \"id\": \"7e3374dc-5e0c-4eaa-8288-bda8a775e0d4\"}, {\"attributes\": {\"callback\": null, \"column_names\": [\"Series 0\", \"Series 1\"], \"data\": {\"Series 1\": [0.9523409498207887, 0.9523409498207887], \"Series 0\": [0.857580653228213, 0.9023835206117256]}}, \"type\": \"ColumnDataSource\", \"id\": \"b0730221-c6c5-44f7-8a77-b6b5e2a600d5\"}]}, \"title\": \"Bokeh Application\"}};\n",
       "            var render_items = [{\"notebook_comms_target\": \"a5964c5d-0eb2-4db4-bcfe-05046305e2ad\", \"docid\": \"43e8ffdc-dbef-4bcf-9e86-11d2c1f66128\", \"elementid\": \"27a8c21c-c93e-43a7-b223-d00bd0c9aad2\", \"modelid\": \"f479475c-a04e-413b-9206-019bf5b3fa16\"}];\n",
       "            \n",
       "            Bokeh.embed.embed_items(docs_json, render_items);\n",
       "        });\n",
       "      },\n",
       "      function(Bokeh) {\n",
       "      }\n",
       "    ];\n",
       "  \n",
       "    function run_inline_js() {\n",
       "      for (var i = 0; i < inline_js.length; i++) {\n",
       "        inline_js[i](window.Bokeh);\n",
       "      }\n",
       "    }\n",
       "  \n",
       "    if (window._bokeh_is_loading === 0) {\n",
       "      console.log(\"Bokeh: BokehJS loaded, going straight to plotting\");\n",
       "      run_inline_js();\n",
       "    } else {\n",
       "      load_libs(js_urls, function() {\n",
       "        console.log(\"Bokeh: BokehJS plotting callback run at\", now());\n",
       "        run_inline_js();\n",
       "      });\n",
       "    }\n",
       "  }(this));\n",
       "</script>"
      ]
     },
     "metadata": {},
     "output_type": "display_data"
    },
    {
     "data": {
      "text/plain": [
       "<bokeh.io._CommsHandle at 0x10a11dcd0>"
      ]
     },
     "execution_count": 24,
     "metadata": {},
     "output_type": "execute_result"
    }
   ],
   "source": [
    "#Let's make an interactive plot from our sine wave example\n",
    "#We make the plot (it automatically generates the figure)\n",
    "plt.plot(x,y,'-',color='green',label='$\\sin(x)$')\n",
    "#We add the label to the X and Y axes\n",
    "plt.xlabel('$x$')\n",
    "plt.ylabel('$\\sin(x)$')\n",
    "#We generate the legend\n",
    "plt.legend()\n",
    "#We change the limits of the X and Y axes\n",
    "plt.xlim(-0.05,np.pi+0.05)\n",
    "plt.ylim(-0.05,1.05)\n",
    "# Make it interactive with Bokeh\n",
    "bokeh.plotting.show(bokeh.mpl.to_bokeh())"
   ]
  },
  {
   "cell_type": "code",
   "execution_count": 25,
   "metadata": {
    "collapsed": false
   },
   "outputs": [],
   "source": [
    "#we import interact to make an interactive plot\n",
    "from ipywidgets import interact"
   ]
  },
  {
   "cell_type": "markdown",
   "metadata": {},
   "source": [
    "**Example: Making an interactive plot with different probability distributions**"
   ]
  },
  {
   "cell_type": "code",
   "execution_count": 26,
   "metadata": {
    "collapsed": false
   },
   "outputs": [],
   "source": [
    "#We are going to plot some probability distributions so we import scipy.stats\n",
    "from scipy import stats\n",
    "xd = np.linspace(0,10,100)\n",
    "dist = stats.norm(0,1)\n",
    "#We have to initialize the plot somehow so we choose a gaussian pdf\n",
    "yd=dist.pdf(xd)\n",
    "#pp is going to be the name of our plot\n",
    "pp = bokeh.plotting.figure(title=\"Probability distribution plot\", plot_height=300, plot_width=600, y_range=(0.05,1.05))\n",
    "#rr is going to be our line\n",
    "rr = pp.line(xd,yd,color=\"red\",line_width=3)"
   ]
  },
  {
   "cell_type": "code",
   "execution_count": 27,
   "metadata": {
    "collapsed": true
   },
   "outputs": [],
   "source": [
    "#Now we make a function of 3 parameters, the name f that is going to be the type of pdf that we select\n",
    "#and par1, par2 that are the value of two parameters of these distributions (mean,sigma etc)\n",
    "def pdist(f,par1=0,par2=1):\n",
    "    if f==\"Gaussian\": dist = stats.norm(par1,par2); rr.data_source.data['y']=dist.pdf(xd)\n",
    "    if f==\"Uniform\": dist = stats.uniform(par1,par2); rr.data_source.data['y']=dist.pdf(xd)\n",
    "    if f==\"Binomial\": dist = stats.binom(par1,par2); rr.data_source.data['y']=dist.pmf(xd)\n",
    "    if f==\"Poisson\": dist = stats.poisson(par1); rr.data_source.data['y']=dist.pmf(xd)\n",
    "    if f==\"Cauchy\": dist = stats.cauchy(par1,par2); rr.data_source.data['y']=dist.pdf(xd)\n",
    "    if f==\"Laplace\": dist = stats.laplace(par1,par2); rr.data_source.data['y']=dist.pdf(xd)\n",
    "    if f==\"Chi2\": dist = stats.chi2(par1); rr.data_source.data['y']=dist.pdf(xd)\n",
    "    if f==\"Student t\": dist = stats.t(par1); rr.data_source.data['y']=dist.pdf(xd)\n",
    "    if f==\"Fisher f\": dist = stats.f(par1,par2); rr.data_source.data['y']=dist.pdf(xd)\n",
    "    if f==\"Beta\": dist = stats.beta(par1,par2); rr.data_source.data['y']=dist.pdf(xd)\n",
    "    if f==\"Gamma\": dist = stats.gamma(par1,par2); rr.data_source.data['y']=dist.pdf(xd)\n",
    "    if f==\"Weibull\": dist = stats.dweibull(par1,0,par2); rr.data_source.data['y']=dist.pdf(xd)\n",
    "    \n",
    "    bokeh.io.push_notebook()"
   ]
  },
  {
   "cell_type": "code",
   "execution_count": 163,
   "metadata": {
    "collapsed": false
   },
   "outputs": [
    {
     "data": {
      "text/html": [
       "\n",
       "\n",
       "    <div class=\"plotdiv\" id=\"9ecabfde-6286-4eff-bf37-8b6035fad494\"></div>\n",
       "<script type=\"text/javascript\">\n",
       "  \n",
       "  (function(global) {\n",
       "    function now() {\n",
       "      return new Date();\n",
       "    }\n",
       "  \n",
       "    if (typeof (window._bokeh_onload_callbacks) === \"undefined\") {\n",
       "      window._bokeh_onload_callbacks = [];\n",
       "    }\n",
       "  \n",
       "    function run_callbacks() {\n",
       "      window._bokeh_onload_callbacks.forEach(function(callback) { callback() });\n",
       "      delete window._bokeh_onload_callbacks\n",
       "      console.info(\"Bokeh: all callbacks have finished\");\n",
       "    }\n",
       "  \n",
       "    function load_libs(js_urls, callback) {\n",
       "      window._bokeh_onload_callbacks.push(callback);\n",
       "      if (window._bokeh_is_loading > 0) {\n",
       "        console.log(\"Bokeh: BokehJS is being loaded, scheduling callback at\", now());\n",
       "        return null;\n",
       "      }\n",
       "      if (js_urls == null || js_urls.length === 0) {\n",
       "        run_callbacks();\n",
       "        return null;\n",
       "      }\n",
       "      console.log(\"Bokeh: BokehJS not loaded, scheduling load and callback at\", now());\n",
       "      window._bokeh_is_loading = js_urls.length;\n",
       "      for (var i = 0; i < js_urls.length; i++) {\n",
       "        var url = js_urls[i];\n",
       "        var s = document.createElement('script');\n",
       "        s.src = url;\n",
       "        s.async = false;\n",
       "        s.onreadystatechange = s.onload = function() {\n",
       "          window._bokeh_is_loading--;\n",
       "          if (window._bokeh_is_loading === 0) {\n",
       "            console.log(\"Bokeh: all BokehJS libraries loaded\");\n",
       "            run_callbacks()\n",
       "          }\n",
       "        };\n",
       "        s.onerror = function() {\n",
       "          console.warn(\"failed to load library \" + url);\n",
       "        };\n",
       "        console.log(\"Bokeh: injecting script tag for BokehJS library: \", url);\n",
       "        document.getElementsByTagName(\"head\")[0].appendChild(s);\n",
       "      }\n",
       "    };var element = document.getElementById(\"9ecabfde-6286-4eff-bf37-8b6035fad494\");\n",
       "    if (element == null) {\n",
       "      console.log(\"Bokeh: ERROR: autoload.js configured with elementid '9ecabfde-6286-4eff-bf37-8b6035fad494' but no matching script tag was found. \")\n",
       "      return false;\n",
       "    }var js_urls = [];\n",
       "  \n",
       "    var inline_js = [\n",
       "      function(Bokeh) {\n",
       "        Bokeh.$(function() {\n",
       "            var docs_json = {\"3b41466a-c18a-4a8e-8059-69f6546a6589\": {\"version\": \"0.11.0\", \"roots\": {\"root_ids\": [\"cecd93f6-f56b-4425-b4e3-e62a785fee2d\"], \"references\": [{\"attributes\": {\"plot\": {\"subtype\": \"Figure\", \"type\": \"Plot\", \"id\": \"cecd93f6-f56b-4425-b4e3-e62a785fee2d\"}, \"formatter\": {\"type\": \"BasicTickFormatter\", \"id\": \"b8800a4a-3290-4647-8bb6-0ab26f32966a\"}, \"ticker\": {\"type\": \"BasicTicker\", \"id\": \"f1825bdd-a823-437b-8c88-1881a42b17e0\"}}, \"type\": \"LinearAxis\", \"id\": \"13abb253-7236-4676-9d3e-ba994eb41a9f\"}, {\"attributes\": {\"line_color\": {\"value\": \"black\"}, \"line_alpha\": {\"value\": 1.0}, \"render_mode\": \"css\", \"bottom_units\": \"screen\", \"level\": \"overlay\", \"top_units\": \"screen\", \"fill_alpha\": {\"value\": 0.5}, \"plot\": null, \"left_units\": \"screen\", \"line_dash\": [4, 4], \"line_width\": {\"value\": 2}, \"right_units\": \"screen\", \"fill_color\": {\"value\": \"lightgrey\"}}, \"type\": \"BoxAnnotation\", \"id\": \"c63fe508-e4d8-4e1c-9a01-dba41a975864\"}, {\"attributes\": {\"nonselection_glyph\": {\"type\": \"Line\", \"id\": \"8b7207de-65a0-48fb-a377-d5cc586fce9c\"}, \"data_source\": {\"type\": \"ColumnDataSource\", \"id\": \"f83c9089-30a4-49f4-9150-7f10e721dc6b\"}, \"selection_glyph\": null, \"hover_glyph\": null, \"glyph\": {\"type\": \"Line\", \"id\": \"d37b3c87-164e-441c-8976-467047d0bc9b\"}}, \"type\": \"GlyphRenderer\", \"id\": \"cb7efed8-248c-4fe5-bee3-4c5b37e83493\"}, {\"attributes\": {}, \"type\": \"BasicTicker\", \"id\": \"f1825bdd-a823-437b-8c88-1881a42b17e0\"}, {\"attributes\": {\"plot\": {\"subtype\": \"Figure\", \"type\": \"Plot\", \"id\": \"cecd93f6-f56b-4425-b4e3-e62a785fee2d\"}}, \"type\": \"PreviewSaveTool\", \"id\": \"ab86b18f-95e5-46c3-9e84-8fba89aa6c14\"}, {\"attributes\": {\"line_color\": {\"value\": \"#1f77b4\"}, \"line_alpha\": {\"value\": 0.1}, \"y\": {\"field\": \"y\"}, \"x\": {\"field\": \"x\"}, \"line_width\": {\"value\": 3}}, \"type\": \"Line\", \"id\": \"8b7207de-65a0-48fb-a377-d5cc586fce9c\"}, {\"attributes\": {\"x_range\": {\"type\": \"DataRange1d\", \"id\": \"fae27c22-3884-4f04-a809-bbd4b6424677\"}, \"title\": \"Probability distribution plot\", \"y_range\": {\"type\": \"Range1d\", \"id\": \"896bc3a7-a5b7-422c-add4-c46087f75b0e\"}, \"renderers\": [{\"type\": \"LinearAxis\", \"id\": \"13abb253-7236-4676-9d3e-ba994eb41a9f\"}, {\"type\": \"Grid\", \"id\": \"13d1cb7d-cea3-4f58-9238-fd5b52d93ca3\"}, {\"type\": \"LinearAxis\", \"id\": \"be15dcd7-41e1-4431-be72-5a7f7614fa0a\"}, {\"type\": \"Grid\", \"id\": \"bf8bf19e-f2b1-440f-8c93-c529bb20e606\"}, {\"type\": \"BoxAnnotation\", \"id\": \"c63fe508-e4d8-4e1c-9a01-dba41a975864\"}, {\"type\": \"GlyphRenderer\", \"id\": \"cb7efed8-248c-4fe5-bee3-4c5b37e83493\"}], \"below\": [{\"type\": \"LinearAxis\", \"id\": \"13abb253-7236-4676-9d3e-ba994eb41a9f\"}], \"tool_events\": {\"type\": \"ToolEvents\", \"id\": \"740265ea-2173-4994-8ef2-fc4e12599cd2\"}, \"plot_height\": 300, \"tools\": [{\"type\": \"PanTool\", \"id\": \"4e81fa15-00e7-47bf-b082-576ebc6907c5\"}, {\"type\": \"WheelZoomTool\", \"id\": \"48f7176e-c8c6-48e8-acf3-199ff7dbea6c\"}, {\"type\": \"BoxZoomTool\", \"id\": \"9ef9f854-b33a-4e5f-a1e2-6dc84d956438\"}, {\"type\": \"PreviewSaveTool\", \"id\": \"ab86b18f-95e5-46c3-9e84-8fba89aa6c14\"}, {\"type\": \"ResizeTool\", \"id\": \"6c56a0f5-16f4-4933-b70a-ff5e4a2d2d3c\"}, {\"type\": \"ResetTool\", \"id\": \"6881471f-ec52-4b7f-913c-1d928a632a3b\"}, {\"type\": \"HelpTool\", \"id\": \"29a887b0-927f-4548-845d-1912c9a740d5\"}], \"left\": [{\"type\": \"LinearAxis\", \"id\": \"be15dcd7-41e1-4431-be72-5a7f7614fa0a\"}]}, \"type\": \"Plot\", \"id\": \"cecd93f6-f56b-4425-b4e3-e62a785fee2d\", \"subtype\": \"Figure\"}, {\"attributes\": {\"plot\": {\"subtype\": \"Figure\", \"type\": \"Plot\", \"id\": \"cecd93f6-f56b-4425-b4e3-e62a785fee2d\"}}, \"type\": \"PanTool\", \"id\": \"4e81fa15-00e7-47bf-b082-576ebc6907c5\"}, {\"attributes\": {}, \"type\": \"BasicTickFormatter\", \"id\": \"b8800a4a-3290-4647-8bb6-0ab26f32966a\"}, {\"attributes\": {\"plot\": {\"subtype\": \"Figure\", \"type\": \"Plot\", \"id\": \"cecd93f6-f56b-4425-b4e3-e62a785fee2d\"}}, \"type\": \"ResetTool\", \"id\": \"6881471f-ec52-4b7f-913c-1d928a632a3b\"}, {\"attributes\": {\"callback\": null, \"column_names\": [\"y\", \"x\"], \"data\": {\"y\": [\"NaN\", \"NaN\", \"NaN\", \"NaN\", \"NaN\", \"NaN\", \"NaN\", \"NaN\", \"NaN\", \"NaN\", \"NaN\", \"NaN\", \"NaN\", \"NaN\", \"NaN\", \"NaN\", \"NaN\", \"NaN\", \"NaN\", \"NaN\", \"NaN\", \"NaN\", \"NaN\", \"NaN\", \"NaN\", \"NaN\", \"NaN\", \"NaN\", \"NaN\", \"NaN\", \"NaN\", \"NaN\", \"NaN\", \"NaN\", \"NaN\", \"NaN\", \"NaN\", \"NaN\", \"NaN\", \"NaN\", \"NaN\", \"NaN\", \"NaN\", \"NaN\", \"NaN\", \"NaN\", \"NaN\", \"NaN\", \"NaN\", \"NaN\", \"NaN\", \"NaN\", \"NaN\", \"NaN\", \"NaN\", \"NaN\", \"NaN\", \"NaN\", \"NaN\", \"NaN\", \"NaN\", \"NaN\", \"NaN\", \"NaN\", \"NaN\", \"NaN\", \"NaN\", \"NaN\", \"NaN\", \"NaN\", \"NaN\", \"NaN\", \"NaN\", \"NaN\", \"NaN\", \"NaN\", \"NaN\", \"NaN\", \"NaN\", \"NaN\", \"NaN\", \"NaN\", \"NaN\", \"NaN\", \"NaN\", \"NaN\", \"NaN\", \"NaN\", \"NaN\", \"NaN\", \"NaN\", \"NaN\", \"NaN\", \"NaN\", \"NaN\", \"NaN\", \"NaN\", \"NaN\", \"NaN\", \"NaN\"], \"x\": [0.0, 0.10101010101010101, 0.20202020202020202, 0.30303030303030304, 0.40404040404040403, 0.5050505050505051, 0.6060606060606061, 0.7070707070707071, 0.8080808080808081, 0.9090909090909091, 1.0101010101010102, 1.1111111111111112, 1.2121212121212122, 1.3131313131313131, 1.4141414141414141, 1.5151515151515151, 1.6161616161616161, 1.7171717171717171, 1.8181818181818181, 1.9191919191919191, 2.0202020202020203, 2.121212121212121, 2.2222222222222223, 2.323232323232323, 2.4242424242424243, 2.525252525252525, 2.6262626262626263, 2.727272727272727, 2.8282828282828283, 2.929292929292929, 3.0303030303030303, 3.131313131313131, 3.2323232323232323, 3.3333333333333335, 3.4343434343434343, 3.5353535353535355, 3.6363636363636362, 3.7373737373737375, 3.8383838383838382, 3.9393939393939394, 4.040404040404041, 4.141414141414141, 4.242424242424242, 4.343434343434343, 4.444444444444445, 4.545454545454545, 4.646464646464646, 4.747474747474747, 4.848484848484849, 4.94949494949495, 5.05050505050505, 5.151515151515151, 5.252525252525253, 5.353535353535354, 5.454545454545454, 5.555555555555555, 5.656565656565657, 5.757575757575758, 5.858585858585858, 5.959595959595959, 6.0606060606060606, 6.161616161616162, 6.262626262626262, 6.363636363636363, 6.4646464646464645, 6.565656565656566, 6.666666666666667, 6.767676767676767, 6.8686868686868685, 6.96969696969697, 7.070707070707071, 7.171717171717171, 7.2727272727272725, 7.373737373737374, 7.474747474747475, 7.575757575757575, 7.6767676767676765, 7.777777777777778, 7.878787878787879, 7.979797979797979, 8.080808080808081, 8.181818181818182, 8.282828282828282, 8.383838383838384, 8.484848484848484, 8.585858585858587, 8.686868686868687, 8.787878787878787, 8.88888888888889, 8.98989898989899, 9.09090909090909, 9.191919191919192, 9.292929292929292, 9.393939393939394, 9.494949494949495, 9.595959595959595, 9.696969696969697, 9.797979797979798, 9.8989898989899, 10.0]}}, \"type\": \"ColumnDataSource\", \"id\": \"f83c9089-30a4-49f4-9150-7f10e721dc6b\"}, {\"attributes\": {\"plot\": {\"subtype\": \"Figure\", \"type\": \"Plot\", \"id\": \"cecd93f6-f56b-4425-b4e3-e62a785fee2d\"}, \"ticker\": {\"type\": \"BasicTicker\", \"id\": \"f1825bdd-a823-437b-8c88-1881a42b17e0\"}}, \"type\": \"Grid\", \"id\": \"13d1cb7d-cea3-4f58-9238-fd5b52d93ca3\"}, {\"attributes\": {\"plot\": {\"subtype\": \"Figure\", \"type\": \"Plot\", \"id\": \"cecd93f6-f56b-4425-b4e3-e62a785fee2d\"}, \"overlay\": {\"type\": \"BoxAnnotation\", \"id\": \"c63fe508-e4d8-4e1c-9a01-dba41a975864\"}}, \"type\": \"BoxZoomTool\", \"id\": \"9ef9f854-b33a-4e5f-a1e2-6dc84d956438\"}, {\"attributes\": {\"line_color\": {\"value\": \"red\"}, \"line_width\": {\"value\": 3}, \"y\": {\"field\": \"y\"}, \"x\": {\"field\": \"x\"}}, \"type\": \"Line\", \"id\": \"d37b3c87-164e-441c-8976-467047d0bc9b\"}, {\"attributes\": {\"plot\": {\"subtype\": \"Figure\", \"type\": \"Plot\", \"id\": \"cecd93f6-f56b-4425-b4e3-e62a785fee2d\"}}, \"type\": \"HelpTool\", \"id\": \"29a887b0-927f-4548-845d-1912c9a740d5\"}, {\"attributes\": {\"plot\": {\"subtype\": \"Figure\", \"type\": \"Plot\", \"id\": \"cecd93f6-f56b-4425-b4e3-e62a785fee2d\"}, \"formatter\": {\"type\": \"BasicTickFormatter\", \"id\": \"3c3c667f-de7f-4ec3-859c-d312714de9e4\"}, \"ticker\": {\"type\": \"BasicTicker\", \"id\": \"c17749df-3629-4d43-a4a7-bc290263da8c\"}}, \"type\": \"LinearAxis\", \"id\": \"be15dcd7-41e1-4431-be72-5a7f7614fa0a\"}, {\"attributes\": {}, \"type\": \"ToolEvents\", \"id\": \"740265ea-2173-4994-8ef2-fc4e12599cd2\"}, {\"attributes\": {\"plot\": {\"subtype\": \"Figure\", \"type\": \"Plot\", \"id\": \"cecd93f6-f56b-4425-b4e3-e62a785fee2d\"}}, \"type\": \"WheelZoomTool\", \"id\": \"48f7176e-c8c6-48e8-acf3-199ff7dbea6c\"}, {\"attributes\": {}, \"type\": \"BasicTickFormatter\", \"id\": \"3c3c667f-de7f-4ec3-859c-d312714de9e4\"}, {\"attributes\": {\"plot\": {\"subtype\": \"Figure\", \"type\": \"Plot\", \"id\": \"cecd93f6-f56b-4425-b4e3-e62a785fee2d\"}}, \"type\": \"ResizeTool\", \"id\": \"6c56a0f5-16f4-4933-b70a-ff5e4a2d2d3c\"}, {\"attributes\": {\"callback\": null}, \"type\": \"DataRange1d\", \"id\": \"fae27c22-3884-4f04-a809-bbd4b6424677\"}, {\"attributes\": {}, \"type\": \"BasicTicker\", \"id\": \"c17749df-3629-4d43-a4a7-bc290263da8c\"}, {\"attributes\": {\"callback\": null, \"end\": 1.05, \"start\": 0.05}, \"type\": \"Range1d\", \"id\": \"896bc3a7-a5b7-422c-add4-c46087f75b0e\"}, {\"attributes\": {\"plot\": {\"subtype\": \"Figure\", \"type\": \"Plot\", \"id\": \"cecd93f6-f56b-4425-b4e3-e62a785fee2d\"}, \"ticker\": {\"type\": \"BasicTicker\", \"id\": \"c17749df-3629-4d43-a4a7-bc290263da8c\"}, \"dimension\": 1}, \"type\": \"Grid\", \"id\": \"bf8bf19e-f2b1-440f-8c93-c529bb20e606\"}]}, \"title\": \"Bokeh Application\"}};\n",
       "            var render_items = [{\"notebook_comms_target\": \"684d5f91-350c-4c13-b170-2faae6c4cfac\", \"docid\": \"3b41466a-c18a-4a8e-8059-69f6546a6589\", \"elementid\": \"9ecabfde-6286-4eff-bf37-8b6035fad494\", \"modelid\": \"cecd93f6-f56b-4425-b4e3-e62a785fee2d\"}];\n",
       "            \n",
       "            Bokeh.embed.embed_items(docs_json, render_items);\n",
       "        });\n",
       "      },\n",
       "      function(Bokeh) {\n",
       "      }\n",
       "    ];\n",
       "  \n",
       "    function run_inline_js() {\n",
       "      for (var i = 0; i < inline_js.length; i++) {\n",
       "        inline_js[i](window.Bokeh);\n",
       "      }\n",
       "    }\n",
       "  \n",
       "    if (window._bokeh_is_loading === 0) {\n",
       "      console.log(\"Bokeh: BokehJS loaded, going straight to plotting\");\n",
       "      run_inline_js();\n",
       "    } else {\n",
       "      load_libs(js_urls, function() {\n",
       "        console.log(\"Bokeh: BokehJS plotting callback run at\", now());\n",
       "        run_inline_js();\n",
       "      });\n",
       "    }\n",
       "  }(this));\n",
       "</script>"
      ]
     },
     "metadata": {},
     "output_type": "display_data"
    },
    {
     "data": {
      "text/plain": [
       "<bokeh.io._CommsHandle at 0x12dc26850>"
      ]
     },
     "execution_count": 163,
     "metadata": {},
     "output_type": "execute_result"
    }
   ],
   "source": [
    "#We show the plot using the bokeh.plotting.show command\n",
    "bokeh.plotting.show(pp)"
   ]
  },
  {
   "cell_type": "code",
   "execution_count": 164,
   "metadata": {
    "collapsed": false
   },
   "outputs": [],
   "source": [
    "#Now we make the interactive plot using the interact command\n",
    "#we specify the values of the parameters as lists or ranges\n",
    "interact(pdist,f=[\"Gaussian\",\"Uniform\",\"Binomial\",\"Poisson\",\"Cauchy\",\n",
    "                  \"Chi2\",\"Laplace\",\"Student t\",\"Fisher f\",\"Beta\",\"Gamma\",\"Weibull\"],par1=(0,10),par2=(0,10))"
   ]
  },
  {
   "cell_type": "markdown",
   "metadata": {
    "collapsed": true
   },
   "source": [
    "**Optional exercise: Try to implement an interactive example with Bokeh**"
   ]
  },
  {
   "cell_type": "markdown",
   "metadata": {},
   "source": [
    "## 5) Use interactive documentation"
   ]
  },
  {
   "cell_type": "markdown",
   "metadata": {},
   "source": [
    "Jupyter also makes easier the use of new packages providing interactive documentation. The command ```help(name_of_the_package)``` lists the available documentation for a pacakge. ```?name``` provides information about the package. **shift+tab** provides the arguments to a function."
   ]
  },
  {
   "cell_type": "code",
   "execution_count": 30,
   "metadata": {
    "collapsed": false
   },
   "outputs": [
    {
     "name": "stdout",
     "output_type": "stream",
     "text": [
      "Help on package bokeh:\n",
      "\n",
      "NAME\n",
      "    bokeh\n",
      "\n",
      "FILE\n",
      "    /Users/javiers/anaconda/lib/python2.7/site-packages/bokeh/__init__.py\n",
      "\n",
      "DESCRIPTION\n",
      "    Bokeh is a Python interactive visualization library that targets modern\n",
      "    web browsers for presentation.\n",
      "    \n",
      "    Its goal is to provide elegant, concise construction of novel graphics in the\n",
      "    style of d3.js, but also deliver this capability with high-performance\n",
      "    interactivity over very large or streaming datasets. Bokeh can help anyone\n",
      "    who would like to quickly and easily create interactive plots, dashboards,\n",
      "    and data applications.\n",
      "    \n",
      "    For full documentation, please visit: http://bokeh.pydata.org\n",
      "\n",
      "PACKAGE CONTENTS\n",
      "    __conda_version__\n",
      "    _version\n",
      "    application (package)\n",
      "    browserlib\n",
      "    charts (package)\n",
      "    client (package)\n",
      "    colors\n",
      "    command (package)\n",
      "    core (package)\n",
      "    document\n",
      "    driving\n",
      "    embed\n",
      "    icons\n",
      "    io\n",
      "    mixins\n",
      "    model\n",
      "    models (package)\n",
      "    mpl\n",
      "    palettes\n",
      "    plotting (package)\n",
      "    plotting_helpers\n",
      "    properties\n",
      "    resources\n",
      "    sampledata (package)\n",
      "    server (package)\n",
      "    settings\n",
      "    sphinxext (package)\n",
      "    templates\n",
      "    themes (package)\n",
      "    tile_providers\n",
      "    util (package)\n",
      "\n",
      "FUNCTIONS\n",
      "    license()\n",
      "        Print the Bokeh license to the console.\n",
      "        \n",
      "        Returns:\n",
      "            None\n",
      "    \n",
      "    test(args=None)\n",
      "        Run the Bokeh unit tests under the bokeh python directory using ``py.test``.\n",
      "        \n",
      "        .. note::\n",
      "            Does not run any BokehJS, examples, or integration tests.\n",
      "        \n",
      "        Args:\n",
      "            args(list, optional): command line arguments accepted by ``py.test``\n",
      "        \n",
      "                For example, ``args=['-s', '-k charts']`` prevents capture of standard out\n",
      "                and only runs tests that match ``\"charts\"``. For more ``py.test`` options\n",
      "                see http://pytest.org/latest/usage.html.\n",
      "        \n",
      "        Returns:\n",
      "            int: ``py.test`` exitcode\n",
      "\n",
      "DATA\n",
      "    __base_version__ = '0.11.0'\n",
      "    __version__ = '0.11.0'\n",
      "    absolute_import = _Feature((2, 5, 0, 'alpha', 1), (3, 0, 0, 'alpha', 0...\n",
      "    print_function = _Feature((2, 6, 0, 'alpha', 2), (3, 0, 0, 'alpha', 0)...\n",
      "\n",
      "VERSION\n",
      "    0.11.0\n",
      "\n",
      "\n"
     ]
    }
   ],
   "source": [
    "help(bokeh)"
   ]
  },
  {
   "cell_type": "code",
   "execution_count": 31,
   "metadata": {
    "collapsed": true
   },
   "outputs": [],
   "source": [
    "?bokeh"
   ]
  },
  {
   "cell_type": "code",
   "execution_count": 32,
   "metadata": {
    "collapsed": false
   },
   "outputs": [
    {
     "data": {
      "text/plain": [
       "<function __main__.pdist>"
      ]
     },
     "execution_count": 32,
     "metadata": {},
     "output_type": "execute_result"
    }
   ],
   "source": [
    "# Test shift+tab\n",
    "pdist"
   ]
  },
  {
   "cell_type": "markdown",
   "metadata": {},
   "source": [
    "## 6) Reading astronomical data (FITS)"
   ]
  },
  {
   "cell_type": "markdown",
   "metadata": {},
   "source": [
    "Some of us had struggled a little while creating a FITS file using for example ```cfitsio``` (you have to initialize status and things like that). The syntax is also kind of obscure and you have to be sure of the format of the variables you are reading. Reading images or FITS tables using Python and Jupyter is much easier and intuitive (and it is not much slower)."
   ]
  },
  {
   "cell_type": "markdown",
   "metadata": {},
   "source": [
    "There are basically two ways of reading a fits file using ```astropy```:\n",
    "\n",
    " 1. Using ```astropy.io.fits```: The ```astropy.io.fits``` module (originally ```PyFITS```) is a “pure Python” FITS reader in that all the code for parsing the FITS file format is in Python, though Numpy is used to provide access to the FITS data. ```astropy.io.fits``` currently also accesses the CFITSIO to support the FITS Tile Compression convention, but this feature is optional. It does not use CFITSIO outside of reading compressed images.\n",
    " 2. Using ```astropy.table```: It uses internally ```astropy.io.fits``` it is very convenient for BinarytableHDU in FITS."
   ]
  },
  {
   "cell_type": "markdown",
   "metadata": {},
   "source": [
    "*There exist other ways to read fits files using Python. For example, you can use the ```fitsio``` package (to install it do ```pip install fitsio```). This other package is faster and works better for large files than astropy, making it necessary when performance is a strong requirement or constrained. However, it doesn't work under Windows and it needs to have a C compiler installed. The ```fitsio``` interface is pretty similar to astropy.table but, it is not identical (some of the things learned here can be directly applied and some other cannot)*"
   ]
  },
  {
   "cell_type": "markdown",
   "metadata": {},
   "source": [
    "### 6.1) Reading and plotting an image"
   ]
  },
  {
   "cell_type": "markdown",
   "metadata": {},
   "source": [
    "First we are going to download a small image from the WeakLensingDeblending package. In this case is what we could expect from one CCD in LSST at full depth (http://weaklensingdeblending.readthedocs.io/en/latest/products.html). The data can be downloaded using the link in here: ftp://ftp.slac.stanford.edu/groups/desc/WL/LSST_i_trimmed.fits.gz or from the repository"
   ]
  },
  {
   "cell_type": "markdown",
   "metadata": {},
   "source": [
    "First we are going to use ```astropy.io.fits``` to read the FITS file as an hdulist (that includes an image HDU and a BinaryTableHDU)"
   ]
  },
  {
   "cell_type": "code",
   "execution_count": 35,
   "metadata": {
    "collapsed": true
   },
   "outputs": [],
   "source": [
    "#We import the package needed to read the file\n",
    "import astropy.io.fits as fits"
   ]
  },
  {
   "cell_type": "code",
   "execution_count": 36,
   "metadata": {
    "collapsed": false
   },
   "outputs": [],
   "source": [
    "path = './downloaded_data/LSST_i_trimmed.fits.gz'\n",
    "#We open the file and it gives us an hdulist\n",
    "hdulist = fits.open(path)"
   ]
  },
  {
   "cell_type": "code",
   "execution_count": 165,
   "metadata": {
    "collapsed": false
   },
   "outputs": [
    {
     "name": "stdout",
     "output_type": "stream",
     "text": [
      "[<astropy.io.fits.hdu.image.PrimaryHDU object at 0x10b92b990>, <astropy.io.fits.hdu.table.BinTableHDU object at 0x10b93ddd0>]\n"
     ]
    }
   ],
   "source": [
    "#We can check what this hdulist has using print\n",
    "print(hdulist)"
   ]
  },
  {
   "cell_type": "code",
   "execution_count": 38,
   "metadata": {
    "collapsed": false
   },
   "outputs": [
    {
     "data": {
      "text/plain": [
       "<matplotlib.colorbar.Colorbar at 0x10bb4a510>"
      ]
     },
     "execution_count": 38,
     "metadata": {},
     "output_type": "execute_result"
    },
    {
     "data": {
      "image/png": "[encoded data removed]",
      "text/plain": [
       "<matplotlib.figure.Figure at 0x10b892bd0>"
      ]
     },
     "metadata": {},
     "output_type": "display_data"
    }
   ],
   "source": [
    "#We are going to see what is in the image, we use imshow and select a gray colormap\n",
    "#we also select a minimum of 0 in the colorbar (vmin) and a maximum of 250 (vmax)\n",
    "plt.imshow(hdulist[0].data,vmin=0,vmax=250,cmap='gray')\n",
    "#Show the colorbar\n",
    "plt.colorbar()"
   ]
  },
  {
   "cell_type": "markdown",
   "metadata": {},
   "source": [
    "Now we are going to use ```astropy.table``` to read the BinaryTableHDU. We could also read it using ```hdulist[1].data``` but let's make use of this nice package"
   ]
  },
  {
   "cell_type": "code",
   "execution_count": 39,
   "metadata": {
    "collapsed": false
   },
   "outputs": [],
   "source": [
    "#Importing astropy.table\n",
    "import astropy.table"
   ]
  },
  {
   "cell_type": "code",
   "execution_count": 40,
   "metadata": {
    "collapsed": false
   },
   "outputs": [],
   "source": [
    "#reading the table. In a multi-hdu file we can specify the hdu with read(path,hdu=num_hdu)\n",
    "table = astropy.table.Table.read(path)"
   ]
  },
  {
   "cell_type": "code",
   "execution_count": 41,
   "metadata": {
    "collapsed": false
   },
   "outputs": [
    {
     "data": {
      "text/html": [
       "&lt;Table length=45114&gt;\n",
       "<table id=\"table4478577488\">\n",
       "<thead><tr><th>db_id</th><th>grp_id</th><th>grp_size</th><th>grp_rank</th><th>visible</th><th>xmin</th><th>xmax</th><th>ymin</th><th>ymax</th><th>f_disk</th><th>f_bulge</th><th>dx</th><th>dy</th><th>z</th><th>ab_mag</th><th>flux</th><th>sigma_m</th><th>sigma_p</th><th>e1</th><th>e2</th><th>a</th><th>b</th><th>beta</th><th>purity</th><th>snr_sky</th><th>snr_iso</th><th>snr_grp</th><th>snr_isof</th><th>snr_grpf</th><th>ds</th><th>dg1</th><th>dg2</th><th>ds_grp</th><th>dg1_grp</th><th>dg2_grp</th></tr></thead>\n",
       "<thead><tr><th>int64</th><th>int64</th><th>int16</th><th>int16</th><th>bool</th><th>int32</th><th>int32</th><th>int32</th><th>int32</th><th>float32</th><th>float32</th><th>float32</th><th>float32</th><th>float32</th><th>float32</th><th>float32</th><th>float32</th><th>float32</th><th>float32</th><th>float32</th><th>float32</th><th>float32</th><th>float32</th><th>float32</th><th>float32</th><th>float32</th><th>float32</th><th>float32</th><th>float32</th><th>float32</th><th>float32</th><th>float32</th><th>float32</th><th>float32</th><th>float32</th></tr></thead>\n",
       "<tr><td>2214322509</td><td>2200170838</td><td>12</td><td>11</td><td>True</td><td>3239</td><td>3244</td><td>447</td><td>451</td><td>1.0</td><td>0.0</td><td>238.819</td><td>-319.693</td><td>0.516401</td><td>27.4169</td><td>12149.3</td><td>1.08088</td><td>1.11031</td><td>0.073753</td><td>-0.146366</td><td>1.27528</td><td>0.916113</td><td>-0.552019</td><td>0.629146</td><td>0.642157</td><td>0.642098</td><td>0.642064</td><td>0.0483527</td><td>0.04835</td><td>16.8097</td><td>10.9363</td><td>8.75564</td><td>16.8107</td><td>10.9369</td><td>8.75607</td></tr>\n",
       "<tr><td>2213221225</td><td>2200170838</td><td>12</td><td>7</td><td>True</td><td>3202</td><td>3208</td><td>453</td><td>460</td><td>1.0</td><td>0.0</td><td>231.507</td><td>-318.24</td><td>2.96548</td><td>27.2805</td><td>13775.3</td><td>0.145562</td><td>0.151919</td><td>-0.176149</td><td>0.108134</td><td>0.179525</td><td>0.118024</td><td>1.29552</td><td>0.611243</td><td>2.75143</td><td>2.75026</td><td>2.74966</td><td>1.732</td><td>1.72987</td><td>3.56483</td><td>3.2925</td><td>2.97563</td><td>3.56657</td><td>3.29326</td><td>2.97635</td></tr>\n",
       "<tr><td>2213832765</td><td>2200170838</td><td>12</td><td>8</td><td>True</td><td>3216</td><td>3223</td><td>456</td><td>462</td><td>1.0</td><td>0.0</td><td>234.398</td><td>-317.7</td><td>0.683066</td><td>27.3607</td><td>12794.4</td><td>0.148595</td><td>0.151039</td><td>0.00700334</td><td>-0.127535</td><td>0.168959</td><td>0.130686</td><td>-0.757969</td><td>0.64786</td><td>2.54664</td><td>2.54564</td><td>2.54519</td><td>1.57215</td><td>1.57088</td><td>3.49963</td><td>3.08378</td><td>3.30942</td><td>3.50086</td><td>3.08433</td><td>3.31003</td></tr>\n",
       "<tr><td>2214602712</td><td>2206640565</td><td>2</td><td>1</td><td>True</td><td>3150</td><td>3157</td><td>458</td><td>465</td><td>1.0</td><td>0.0</td><td>221.175</td><td>-317.188</td><td>3.23816</td><td>27.4955</td><td>11300.0</td><td>0.152348</td><td>0.158427</td><td>-0.130865</td><td>0.148252</td><td>0.18615</td><td>0.124684</td><td>1.14699</td><td>0.97008</td><td>2.23691</td><td>2.23614</td><td>2.23613</td><td>1.36981</td><td>1.35325</td><td>4.19965</td><td>3.60413</td><td>3.7456</td><td>4.21775</td><td>3.63002</td><td>3.7531</td></tr>\n",
       "<tr><td>2201272641</td><td>2200170838</td><td>12</td><td>1</td><td>True</td><td>3179</td><td>3200</td><td>413</td><td>428</td><td>0.930439</td><td>0.0695615</td><td>228.385</td><td>-325.361</td><td>1.233</td><td>23.9101</td><td>307089.0</td><td>0.371826</td><td>0.4614</td><td>0.457709</td><td>-0.0552518</td><td>0.612192</td><td>0.225835</td><td>-0.0600663</td><td>0.971126</td><td>47.7806</td><td>47.5144</td><td>47.5094</td><td>30.4346</td><td>29.4157</td><td>0.0879084</td><td>0.0815394</td><td>0.0441646</td><td>0.0896325</td><td>0.0832555</td><td>0.0446872</td></tr>\n",
       "<tr><td>2209286187</td><td>2200170838</td><td>12</td><td>10</td><td>True</td><td>3187</td><td>3193</td><td>426</td><td>432</td><td>1.0</td><td>0.0</td><td>228.493</td><td>-323.751</td><td>0.793642</td><td>26.5588</td><td>26778.3</td><td>1.90251</td><td>1.92233</td><td>0.0920748</td><td>-0.043432</td><td>2.10714</td><td>1.71775</td><td>-0.220378</td><td>0.257073</td><td>0.747026</td><td>0.746961</td><td>0.746775</td><td>0.0428235</td><td>0.0427664</td><td>15.8154</td><td>9.298</td><td>8.38044</td><td>15.8336</td><td>9.31691</td><td>8.38625</td></tr>\n",
       "<tr><td>2216818333</td><td>2208277203</td><td>2</td><td>1</td><td>True</td><td>3181</td><td>3187</td><td>461</td><td>466</td><td>1.0</td><td>0.0</td><td>227.289</td><td>-316.744</td><td>2.11807</td><td>27.9893</td><td>7171.1</td><td>0.132606</td><td>0.133632</td><td>0.0781198</td><td>-0.040055</td><td>0.144806</td><td>0.121433</td><td>-0.236893</td><td>0.7217</td><td>1.42483</td><td>1.4245</td><td>1.42441</td><td>0.775576</td><td>0.661526</td><td>8.23079</td><td>7.49011</td><td>7.37315</td><td>8.76275</td><td>7.95309</td><td>7.86081</td></tr>\n",
       "<tr><td>2208277203</td><td>2208277203</td><td>2</td><td>0</td><td>True</td><td>3176</td><td>3186</td><td>454</td><td>464</td><td>0.704855</td><td>0.295145</td><td>226.742</td><td>-317.662</td><td>2.47147</td><td>26.3707</td><td>31844.2</td><td>0.330121</td><td>0.330877</td><td>0.00610489</td><td>0.0474397</td><td>0.346307</td><td>0.314691</td><td>0.721406</td><td>0.972163</td><td>5.22879</td><td>5.22513</td><td>5.22509</td><td>2.88766</td><td>2.44919</td><td>0.930848</td><td>0.756311</td><td>0.773607</td><td>1.0371</td><td>0.826358</td><td>0.888364</td></tr>\n",
       "<tr><td>2203591562</td><td>2200170838</td><td>12</td><td>2</td><td>True</td><td>3192</td><td>3204</td><td>406</td><td>418</td><td>0.920567</td><td>0.0794327</td><td>230.076</td><td>-327.101</td><td>0.998349</td><td>25.0334</td><td>109125.0</td><td>0.218209</td><td>0.221974</td><td>0.130783</td><td>-0.00149816</td><td>0.248887</td><td>0.191313</td><td>-0.00572739</td><td>0.944161</td><td>20.3892</td><td>20.3317</td><td>20.3294</td><td>13.5993</td><td>13.4758</td><td>0.235905</td><td>0.223652</td><td>0.210868</td><td>0.239066</td><td>0.22616</td><td>0.211702</td></tr>\n",
       "<tr><td>2204598739</td><td>2200170838</td><td>12</td><td>3</td><td>True</td><td>3215</td><td>3226</td><td>396</td><td>412</td><td>1.0</td><td>0.0</td><td>234.585</td><td>-328.749</td><td>1.2115</td><td>25.5208</td><td>69658.8</td><td>0.415453</td><td>0.499273</td><td>-0.41969</td><td>-0.0748499</td><td>0.655075</td><td>0.263483</td><td>-1.48255</td><td>0.956909</td><td>10.4136</td><td>10.4014</td><td>10.4011</td><td>6.48552</td><td>6.48397</td><td>0.337905</td><td>0.306171</td><td>0.193196</td><td>0.337942</td><td>0.306183</td><td>0.193206</td></tr>\n",
       "<tr><td>...</td><td>...</td><td>...</td><td>...</td><td>...</td><td>...</td><td>...</td><td>...</td><td>...</td><td>...</td><td>...</td><td>...</td><td>...</td><td>...</td><td>...</td><td>...</td><td>...</td><td>...</td><td>...</td><td>...</td><td>...</td><td>...</td><td>...</td><td>...</td><td>...</td><td>...</td><td>...</td><td>...</td><td>...</td><td>...</td><td>...</td><td>...</td><td>...</td><td>...</td><td>...</td></tr>\n",
       "<tr><td>402707178568</td><td>402708104235</td><td>2</td><td>1</td><td>True</td><td>-2</td><td>9</td><td>40</td><td>52</td><td>0.965542</td><td>0.0344583</td><td>-408.797</td><td>-400.22</td><td>1.493</td><td>26.156</td><td>38804.3</td><td>0.508797</td><td>0.510103</td><td>-0.043722</td><td>0.025503</td><td>0.535237</td><td>0.483664</td><td>1.30677</td><td>0.956556</td><td>5.20387</td><td>5.20101</td><td>5.20098</td><td>2.79049</td><td>2.59427</td><td>0.53193</td><td>0.438523</td><td>0.435865</td><td>0.565421</td><td>0.457305</td><td>0.459487</td></tr>\n",
       "<tr><td>402717401699</td><td>402717401699</td><td>1</td><td>0</td><td>True</td><td>2014</td><td>2019</td><td>4072</td><td>4077</td><td>1.0</td><td>0.0</td><td>-6.16264</td><td>405.4</td><td>2.52492</td><td>28.4184</td><td>4829.88</td><td>0.120934</td><td>0.174959</td><td>0.38734</td><td>-0.450954</td><td>0.239796</td><td>0.0609891</td><td>-0.430569</td><td>1.0</td><td>0.925482</td><td>0.925331</td><td>0.925331</td><td>0.407962</td><td>0.407962</td><td>58.2105</td><td>37.6753</td><td>44.2622</td><td>58.2105</td><td>37.6753</td><td>44.2622</td></tr>\n",
       "<tr><td>402711116843</td><td>402711433113</td><td>3</td><td>1</td><td>True</td><td>1997</td><td>2006</td><td>4062</td><td>4073</td><td>1.0</td><td>0.0</td><td>-9.1341</td><td>403.986</td><td>1.02478</td><td>26.7956</td><td>21531.5</td><td>0.547889</td><td>0.561375</td><td>-0.152987</td><td>0.0301113</td><td>0.641159</td><td>0.468187</td><td>1.47363</td><td>0.657134</td><td>2.72402</td><td>2.72325</td><td>2.72296</td><td>1.24988</td><td>0.782911</td><td>1.13125</td><td>0.899615</td><td>0.859898</td><td>1.43089</td><td>1.57093</td><td>1.16625</td></tr>\n",
       "<tr><td>402711433113</td><td>402711433113</td><td>3</td><td>0</td><td>True</td><td>1994</td><td>2001</td><td>4064</td><td>4072</td><td>1.0</td><td>0.0</td><td>-9.95378</td><td>404.174</td><td>0.995764</td><td>26.8761</td><td>19992.7</td><td>0.132336</td><td>0.140873</td><td>-0.214784</td><td>-0.127675</td><td>0.170821</td><td>0.102522</td><td>-1.30264</td><td>0.824086</td><td>4.05849</td><td>4.05595</td><td>4.05553</td><td>2.70908</td><td>1.23788</td><td>2.80344</td><td>2.59895</td><td>2.27555</td><td>3.39599</td><td>3.08647</td><td>2.73776</td></tr>\n",
       "<tr><td>402704824822</td><td>402704824822</td><td>1</td><td>0</td><td>True</td><td>2024</td><td>2034</td><td>4055</td><td>4066</td><td>1.0</td><td>0.0</td><td>-3.64566</td><td>402.653</td><td>2.23208</td><td>25.618</td><td>63693.4</td><td>0.180066</td><td>0.282299</td><td>-0.308378</td><td>-0.57141</td><td>0.390501</td><td>0.083031</td><td>-1.03284</td><td>1.0</td><td>12.1748</td><td>12.1537</td><td>12.1537</td><td>8.34125</td><td>8.34125</td><td>1.90242</td><td>0.945193</td><td>1.67048</td><td>1.90242</td><td>0.945193</td><td>1.67048</td></tr>\n",
       "<tr><td>402712262956</td><td>402703600542</td><td>3</td><td>2</td><td>True</td><td>2015</td><td>2023</td><td>4079</td><td>4087</td><td>1.0</td><td>0.0</td><td>-5.77683</td><td>407.076</td><td>4.5115</td><td>27.0126</td><td>17630.7</td><td>0.2973</td><td>0.300821</td><td>-0.0616529</td><td>-0.0892828</td><td>0.331515</td><td>0.266617</td><td>-1.08757</td><td>0.506726</td><td>2.9834</td><td>2.98223</td><td>2.9814</td><td>1.65385</td><td>0.540778</td><td>1.37661</td><td>1.1785</td><td>1.195</td><td>1.86658</td><td>1.85812</td><td>1.72681</td></tr>\n",
       "<tr><td>402705633089</td><td>402703600542</td><td>3</td><td>1</td><td>True</td><td>2012</td><td>2023</td><td>4082</td><td>4092</td><td>1.0</td><td>0.0</td><td>-6.02274</td><td>407.863</td><td>0.495741</td><td>25.9794</td><td>45659.2</td><td>0.205661</td><td>0.22719</td><td>0.198535</td><td>0.244569</td><td>0.284953</td><td>0.148433</td><td>0.444458</td><td>0.891787</td><td>8.62803</td><td>8.61755</td><td>8.61665</td><td>5.77671</td><td>1.86283</td><td>0.745871</td><td>0.597332</td><td>0.643796</td><td>1.2438</td><td>1.20258</td><td>1.12339</td></tr>\n",
       "<tr><td>402703600542</td><td>402703600542</td><td>3</td><td>0</td><td>True</td><td>2002</td><td>2013</td><td>4081</td><td>4092</td><td>0.751545</td><td>0.248455</td><td>-7.96551</td><td>407.744</td><td>0.997952</td><td>25.1863</td><td>94792.7</td><td>0.0965635</td><td>0.101906</td><td>0.00945499</td><td>-0.231759</td><td>0.122297</td><td>0.0762448</td><td>-0.765011</td><td>0.999027</td><td>19.456</td><td>19.3971</td><td>19.3971</td><td>10.3102</td><td>10.2895</td><td>1.27656</td><td>0.753919</td><td>1.07359</td><td>1.27917</td><td>0.755899</td><td>1.07452</td></tr>\n",
       "<tr><td>402710622017</td><td>402710622017</td><td>1</td><td>0</td><td>True</td><td>2038</td><td>2048</td><td>4065</td><td>4075</td><td>1.0</td><td>0.0</td><td>-0.922248</td><td>404.469</td><td>0.557929</td><td>26.8062</td><td>21320.9</td><td>0.808529</td><td>0.819512</td><td>-0.0620293</td><td>-0.098204</td><td>0.908593</td><td>0.719485</td><td>-1.06708</td><td>1.0</td><td>2.02147</td><td>2.0211</td><td>2.0211</td><td>0.67456</td><td>0.67456</td><td>1.63539</td><td>1.16087</td><td>1.18641</td><td>1.63539</td><td>1.16087</td><td>1.18641</td></tr>\n",
       "<tr><td>402704928768</td><td>402704928768</td><td>1</td><td>0</td><td>True</td><td>2039</td><td>2050</td><td>4051</td><td>4062</td><td>1.0</td><td>0.0</td><td>-0.649735</td><td>401.881</td><td>0.862874</td><td>25.5695</td><td>66600.7</td><td>0.216771</td><td>0.216771</td><td>-0.000217538</td><td>0.000361642</td><td>0.216863</td><td>0.21668</td><td>1.05617</td><td>1.0</td><td>12.505</td><td>12.4832</td><td>12.4832</td><td>8.41098</td><td>8.41098</td><td>0.365999</td><td>0.350184</td><td>0.349819</td><td>0.365999</td><td>0.350184</td><td>0.349819</td></tr>\n",
       "</table>"
      ],
      "text/plain": [
       "<Table length=45114>\n",
       "   db_id        grp_id    grp_size grp_rank ...   ds_grp   dg1_grp   dg2_grp \n",
       "   int64        int64      int16    int16   ...  float32   float32   float32 \n",
       "------------ ------------ -------- -------- ... --------- --------- ---------\n",
       "  2214322509   2200170838       12       11 ...   16.8107   10.9369   8.75607\n",
       "  2213221225   2200170838       12        7 ...   3.56657   3.29326   2.97635\n",
       "  2213832765   2200170838       12        8 ...   3.50086   3.08433   3.31003\n",
       "  2214602712   2206640565        2        1 ...   4.21775   3.63002    3.7531\n",
       "  2201272641   2200170838       12        1 ... 0.0896325 0.0832555 0.0446872\n",
       "  2209286187   2200170838       12       10 ...   15.8336   9.31691   8.38625\n",
       "  2216818333   2208277203        2        1 ...   8.76275   7.95309   7.86081\n",
       "  2208277203   2208277203        2        0 ...    1.0371  0.826358  0.888364\n",
       "  2203591562   2200170838       12        2 ...  0.239066   0.22616  0.211702\n",
       "  2204598739   2200170838       12        3 ...  0.337942  0.306183  0.193206\n",
       "         ...          ...      ...      ... ...       ...       ...       ...\n",
       "402707178568 402708104235        2        1 ...  0.565421  0.457305  0.459487\n",
       "402717401699 402717401699        1        0 ...   58.2105   37.6753   44.2622\n",
       "402711116843 402711433113        3        1 ...   1.43089   1.57093   1.16625\n",
       "402711433113 402711433113        3        0 ...   3.39599   3.08647   2.73776\n",
       "402704824822 402704824822        1        0 ...   1.90242  0.945193   1.67048\n",
       "402712262956 402703600542        3        2 ...   1.86658   1.85812   1.72681\n",
       "402705633089 402703600542        3        1 ...    1.2438   1.20258   1.12339\n",
       "402703600542 402703600542        3        0 ...   1.27917  0.755899   1.07452\n",
       "402710622017 402710622017        1        0 ...   1.63539   1.16087   1.18641\n",
       "402704928768 402704928768        1        0 ...  0.365999  0.350184  0.349819"
      ]
     },
     "execution_count": 41,
     "metadata": {},
     "output_type": "execute_result"
    }
   ],
   "source": [
    "#we show the contents of the table\n",
    "table"
   ]
  },
  {
   "cell_type": "markdown",
   "metadata": {},
   "source": [
    "We can also select any column by simply using ```table['NAME_OF_THE_COLUMN']```"
   ]
  },
  {
   "cell_type": "code",
   "execution_count": 80,
   "metadata": {
    "collapsed": false
   },
   "outputs": [
    {
     "name": "stdout",
     "output_type": "stream",
     "text": [
      " purity \n",
      "--------\n",
      "0.629146\n",
      "0.611243\n",
      " 0.64786\n",
      " 0.97008\n",
      "0.971126\n",
      "0.257073\n",
      "  0.7217\n",
      "0.972163\n",
      "0.944161\n",
      "0.956909\n",
      "     ...\n",
      "0.967515\n",
      "0.956556\n",
      "     1.0\n",
      "0.657134\n",
      "0.824086\n",
      "     1.0\n",
      "0.506726\n",
      "0.891787\n",
      "0.999027\n",
      "     1.0\n",
      "     1.0\n",
      "Length = 45114 rows\n"
     ]
    }
   ],
   "source": [
    "#We print the purity column of the table\n",
    "print(table['purity'])"
   ]
  },
  {
   "cell_type": "markdown",
   "metadata": {},
   "source": [
    "**Exercise: Make a histogram of the signal to noise ```snr_iso``` for different purity cuts (Hint: make use of numpy masks)** "
   ]
  },
  {
   "cell_type": "code",
   "execution_count": null,
   "metadata": {
    "collapsed": true
   },
   "outputs": [],
   "source": [
    "# %load ex4.py"
   ]
  },
  {
   "cell_type": "markdown",
   "metadata": {},
   "source": [
    "**Exercise: Repeat that with ```snr_grpf```**"
   ]
  },
  {
   "cell_type": "markdown",
   "metadata": {},
   "source": [
    "### 6.2) Using seaborn to create useful plots"
   ]
  },
  {
   "cell_type": "code",
   "execution_count": 44,
   "metadata": {
    "collapsed": false
   },
   "outputs": [],
   "source": [
    "#We are going to use some columns of the table above to produce a useful pairplot\n",
    "#We make use of numpy masks!\n",
    "selection = np.empty(len(table['snr_grpf']),dtype='a20')\n",
    "mask_03 = table['purity']<=0.3\n",
    "mask_06 = np.logical_and(table['purity']>0.3,table['purity']<=0.6)\n",
    "mask_09 = np.logical_and(table['purity']>0.6,table['purity']<=0.9)\n",
    "mask_1 = table['purity']>0.9\n",
    "selection[mask_03]=\"purity<=0.3\"\n",
    "selection[mask_06]=\"0.3<purity<=0.6\"\n",
    "selection[mask_09]=\"0.6<purity<=0.9\"\n",
    "selection[mask_1]=\"purity>0.9\"\n",
    "#We require the values dg1 and dg2 to be finite in order that seaborn creates automatically the histograms\n",
    "masked_array = np.logical_not(np.logical_or(np.isinf(table['dg1_grp']),np.isinf(table['dg2_grp'])))\n",
    "#We are going to plot just 1000 points\n",
    "nobj=500\n",
    "#We will use certain columns of the table\n",
    "cols = [selection[masked_array][0:nobj],table['dg1_grp'][masked_array][0:nobj], \\\n",
    "        table['dg2_grp'][masked_array][0:nobj],table['e1'][masked_array][0:nobj], \\\n",
    "       table['e2'][masked_array][0:nobj]]\n",
    "new_table = astropy.table.Table(cols,names=('selection','dg1_grp','dg2_grp','e1','e2'))\n",
    "#Seaborn pairplot requires a pandas data frame\n",
    "df = new_table.to_pandas()"
   ]
  },
  {
   "cell_type": "code",
   "execution_count": 45,
   "metadata": {
    "collapsed": false
   },
   "outputs": [
    {
     "name": "stderr",
     "output_type": "stream",
     "text": [
      "/Users/javiers/anaconda/lib/python2.7/site-packages/matplotlib/__init__.py:892: UserWarning: axes.color_cycle is deprecated and replaced with axes.prop_cycle; please use the latter.\n",
      "  warnings.warn(self.msg_depr % (key, alt_key))\n"
     ]
    },
    {
     "data": {
      "text/plain": [
       "<seaborn.axisgrid.PairGrid at 0x10cf78550>"
      ]
     },
     "execution_count": 45,
     "metadata": {},
     "output_type": "execute_result"
    },
    {
     "data": {
      "image/png": "[encoded data removed]",
      "text/plain": [
       "<matplotlib.figure.Figure at 0x10cf78bd0>"
      ]
     },
     "metadata": {},
     "output_type": "display_data"
    }
   ],
   "source": [
    "sns.pairplot(df, hue='selection')"
   ]
  },
  {
   "cell_type": "code",
   "execution_count": 46,
   "metadata": {
    "collapsed": false,
    "scrolled": false
   },
   "outputs": [
    {
     "data": {
      "text/plain": [
       "<matplotlib.axes._subplots.AxesSubplot at 0x10fedcfd0>"
      ]
     },
     "execution_count": 46,
     "metadata": {},
     "output_type": "execute_result"
    },
    {
     "data": {
      "image/png": "[encoded data removed]",
      "text/plain": [
       "<matplotlib.figure.Figure at 0x10fb13390>"
      ]
     },
     "metadata": {},
     "output_type": "display_data"
    }
   ],
   "source": [
    "#We are going to check the correlations using heatmap\n",
    "corr = df.corr()\n",
    "sns.heatmap(corr)"
   ]
  },
  {
   "cell_type": "markdown",
   "metadata": {},
   "source": [
    "## 7) Keep track of the units. Use astropy.units"
   ]
  },
  {
   "cell_type": "markdown",
   "metadata": {},
   "source": [
    "Sometimes it is difficult to keep track of which units you are using when you write very long programs. This is simplified when you use astropy.units (http://docs.astropy.org/en/stable/units/). The package also handles equivalences and makes easy the unit conversion. It raises an error if you are operating with incompatible units."
   ]
  },
  {
   "cell_type": "code",
   "execution_count": 77,
   "metadata": {
    "collapsed": true
   },
   "outputs": [],
   "source": [
    "import astropy.units as u"
   ]
  },
  {
   "cell_type": "code",
   "execution_count": 78,
   "metadata": {
    "collapsed": true
   },
   "outputs": [],
   "source": [
    "x = 10*u.km"
   ]
  },
  {
   "cell_type": "code",
   "execution_count": 79,
   "metadata": {
    "collapsed": false
   },
   "outputs": [
    {
     "data": {
      "text/latex": [
       "$6.2137119 \\; \\mathrm{mi}$"
      ],
      "text/plain": [
       "<Quantity 6.2137119223733395 mi>"
      ]
     },
     "execution_count": 79,
     "metadata": {},
     "output_type": "execute_result"
    }
   ],
   "source": [
    "x.to(u.imperial.mile)"
   ]
  },
  {
   "cell_type": "code",
   "execution_count": 227,
   "metadata": {
    "collapsed": false
   },
   "outputs": [
    {
     "name": "stdout",
     "output_type": "stream",
     "text": [
      "  sdss2010-u    sdss2010-g    sdss2010-r    sdss2010-i    sdss2010-z \n",
      "------------- ------------- ------------- ------------- -------------\n",
      "20.2019879984 19.3121902888 19.1058456481 19.0438657889 19.0194615638\n",
      "[ 20.44052124  19.25792122  19.00582886  18.77737045  18.67336845]\n"
     ]
    }
   ],
   "source": [
    "#We import speclite to compute magnitudes\n",
    "import speclite\n",
    "sdss = speclite.filters.load_filters('sdss2010-*')\n",
    "#Spectrum of quasar #40\n",
    "wave = np.load('./downloaded_data/wave.npy') #No units included but units are Angstroms\n",
    "flux = np.load('./downloaded_data/flux.npy') #It comes without units but they're 1e-17 erg/cm**2/s/AA\n",
    "#We use get magnitudes to compute the magnitudes. If no units included, it assumes (erg/cm**2/s/AA, AA)<-(flux, wave)\n",
    "mags = sdss.get_ab_magnitudes(flux*1e-17*u.erg/u.cm**2/u.s/u.AA,wave*u.AA)\n",
    "mags_boss = np.hstack(quasar_table['PSFMAG_%d' %f][40] for f in range(0,5))\n",
    "print mags\n",
    "print mags_boss"
   ]
  },
  {
   "cell_type": "markdown",
   "metadata": {},
   "source": [
    "## 8) A complete example: How to make a redshift fitter (photo-z) using sklearn."
   ]
  },
  {
   "cell_type": "code",
   "execution_count": 123,
   "metadata": {
    "collapsed": true
   },
   "outputs": [],
   "source": [
    "#We read a quasar-catalog data table\n",
    "quasar_table = astropy.table.Table.read('./downloaded_data/quasar_table.fits')"
   ]
  },
  {
   "cell_type": "markdown",
   "metadata": {},
   "source": [
    "Now we are going to use the units to compute properly the magnitudes"
   ]
  },
  {
   "cell_type": "code",
   "execution_count": 148,
   "metadata": {
    "collapsed": false
   },
   "outputs": [
    {
     "name": "stdout",
     "output_type": "stream",
     "text": [
      "297301\n",
      "59461\n"
     ]
    }
   ],
   "source": [
    "#Now we are going to prepare a Boosted decision tree photo-z estimator\n",
    "from sklearn.ensemble import GradientBoostingRegressor\n",
    "#Prepare the training array\n",
    "mags = np.vstack([quasar_table['PSFMAG_%d' % f] for f in range(0,5)]).T\n",
    "z = quasar_table['Z_VI']\n",
    "print(len(z))\n",
    "#train on 20% of the points\n",
    "mag_train = mags[::5]\n",
    "z_train = z[::5]\n",
    "print(len(z_train))\n",
    "#test on 5% of the points\n",
    "mag_test = mags[::18]\n",
    "z_test = z[::18]\n",
    "#Set up the tree\n",
    "clf = GradientBoostingRegressor(n_estimators=500, learning_rate=0.1,max_depth=3, random_state=0)\n",
    "#Train the tree\n",
    "clf.fit(mag_train, z_train)\n",
    "#Test it!\n",
    "z_fit_train = clf.predict(mag_train)\n",
    "z_fit = clf.predict(mag_test)\n",
    "#Compute rms in the training set and test set\n",
    "rms_train = np.mean(np.sqrt((z_fit_train - z_train) ** 2))\n",
    "rms_test = np.mean(np.sqrt((z_fit - z_test) ** 2))"
   ]
  },
  {
   "cell_type": "code",
   "execution_count": 149,
   "metadata": {
    "collapsed": false
   },
   "outputs": [
    {
     "data": {
      "text/plain": [
       "<matplotlib.text.Text at 0x10d79c350>"
      ]
     },
     "execution_count": 149,
     "metadata": {},
     "output_type": "execute_result"
    },
    {
     "data": {
      "image/png": "[encoded data removed]",
      "text/plain": [
       "<matplotlib.figure.Figure at 0x11de69b50>"
      ]
     },
     "metadata": {},
     "output_type": "display_data"
    }
   ],
   "source": [
    "plt.scatter(z_test,z_fit, color='k', s=0.1)\n",
    "plt.plot([-0.1, 6], [-0.1, 6], ':k')\n",
    "plt.text(0.04, 5, \"rms = %.3f\" % (rms_test))\n",
    "plt.xlabel('$z_{true}$')\n",
    "plt.ylabel('$z_{fit}$')"
   ]
  },
  {
   "cell_type": "markdown",
   "metadata": {},
   "source": [
    "**Exercise**: Train and evaluate the performance of the tree using colors instead of the magnitudes themselves"
   ]
  },
  {
   "cell_type": "code",
   "execution_count": 133,
   "metadata": {
    "collapsed": true
   },
   "outputs": [],
   "source": [
    "# %load ex6.py"
   ]
  },
  {
   "cell_type": "markdown",
   "metadata": {},
   "source": [
    "**Optional exercise**: Create a nearest-neighbors estimator (KNN) using ```from sklearn.neighbors import KNeighborsRegressor```"
   ]
  },
  {
   "cell_type": "code",
   "execution_count": 150,
   "metadata": {
    "collapsed": true
   },
   "outputs": [],
   "source": [
    "# %load opt_ex1.py"
   ]
  },
  {
   "cell_type": "markdown",
   "metadata": {},
   "source": [
    "### 8.b) Extra: Deep Neural Network photo-z (you need keras and theano or tensorflow for this part)"
   ]
  },
  {
   "cell_type": "markdown",
   "metadata": {},
   "source": [
    "I am going to use a Recurrent Neural network, it may not be the optimal choice but, this is to illustrate how to set up the network. More on recurrent neural networks here: http://colah.github.io/posts/2015-08-Understanding-LSTMs/"
   ]
  },
  {
   "cell_type": "markdown",
   "metadata": {},
   "source": [
    "**Optional exercise**: Create your own Neural Network photo-z estimator"
   ]
  },
  {
   "cell_type": "code",
   "execution_count": 161,
   "metadata": {
    "collapsed": false
   },
   "outputs": [],
   "source": [
    "# %load opt_nn.py"
   ]
  },
  {
   "cell_type": "markdown",
   "metadata": {},
   "source": [
    "## 9) Create a lognormal simulation and compute its correlation function"
   ]
  },
  {
   "cell_type": "markdown",
   "metadata": {},
   "source": [
    "We will use randomfield to create a gaussian random field"
   ]
  },
  {
   "cell_type": "code",
   "execution_count": null,
   "metadata": {
    "collapsed": false
   },
   "outputs": [],
   "source": [
    "import randomfield"
   ]
  },
  {
   "cell_type": "code",
   "execution_count": null,
   "metadata": {
    "collapsed": false
   },
   "outputs": [],
   "source": [
    "%time generator = randomfield.Generator(8, 128, 1024, grid_spacing_Mpc_h=1.0, verbose=True)"
   ]
  },
  {
   "cell_type": "code",
   "execution_count": null,
   "metadata": {
    "collapsed": false
   },
   "outputs": [],
   "source": [
    "delta = generator.generate_delta_field(smoothing_length_Mpc_h=2.0, seed=123, show_plot=True)"
   ]
  },
  {
   "cell_type": "code",
   "execution_count": null,
   "metadata": {
    "collapsed": false
   },
   "outputs": [],
   "source": [
    "density = generator.convert_delta_to_density(show_plot=True)"
   ]
  },
  {
   "cell_type": "code",
   "execution_count": null,
   "metadata": {
    "collapsed": true
   },
   "outputs": [],
   "source": [
    "from mpl_toolkits.basemap import Basemap\n",
    "from matplotlib.collections import PolyCollection"
   ]
  },
  {
   "cell_type": "code",
   "execution_count": null,
   "metadata": {
    "collapsed": true
   },
   "outputs": [],
   "source": [
    "from astropy.coordinates import SkyCoord"
   ]
  },
  {
   "cell_type": "markdown",
   "metadata": {},
   "source": [
    "## 10) Create sky plots"
   ]
  },
  {
   "cell_type": "markdown",
   "metadata": {},
   "source": [
    "Healpy (http://healpy.readthedocs.io/en/latest/) includes tools for visualizing skymaps but, what if we want to use different projections? Or what if we cannot use healpy?"
   ]
  },
  {
   "cell_type": "code",
   "execution_count": null,
   "metadata": {
    "collapsed": true
   },
   "outputs": [],
   "source": [
    "import healpy as hp"
   ]
  },
  {
   "cell_type": "code",
   "execution_count": null,
   "metadata": {
    "collapsed": false
   },
   "outputs": [],
   "source": [
    "def plot_sky(ra, dec, data=None, nside=4, label='', projection='eck4', cmap=plt.get_cmap('jet'), norm=None,\n",
    "             hide_galactic_plane=False, healpy=False):\n",
    "    if(healpy):\n",
    "        # get pixel area in degrees\n",
    "        pixel_area = hp.pixelfunc.nside2pixarea(nside, degrees=True)\n",
    "        # find healpixels associated with input vectors\n",
    "        pixels = hp.ang2pix(nside, 0.5*np.pi-dec,ra)\n",
    "        # find unique pixels\n",
    "        unique_pixels = np.unique(pixels)\n",
    "        # count number of points in each pixel\n",
    "        bincounts = np.bincount(pixels)\n",
    "        # if no data provided, show counts per sq degree\n",
    "        # otherwise, show mean per pixel\n",
    "        if data is None:\n",
    "            values = bincounts[unique_pixels]/pixel_area\n",
    "        else:\n",
    "            weighted_counts = np.bincount(pixels, weights=data)\n",
    "            values = weighted_counts[unique_pixels]/bincounts[unique_pixels]\n",
    "        # find pixel boundaries\n",
    "        corners = hp.boundaries(nside, unique_pixels, step=1)\n",
    "        corner_theta, corner_phi = hp.vec2ang(corners.transpose(0,2,1))\n",
    "        corner_ra, corner_dec = np.degrees(corner_phi), np.degrees(np.pi/2-corner_theta)\n",
    "    else:\n",
    "        values, xed, yed = np.histogram2d(ra,np.sin(dec),bins=[nside,nside],range=[(0,360),(-1,1)])\n",
    "        corner_ra = []\n",
    "        corner_cth = []\n",
    "        values=values.flatten()\n",
    "        for i in range(len(values)):\n",
    "            corner_ra.append(xed[i%nside+1])\n",
    "            corner_ra.append(xed[i%nside])\n",
    "            corner_ra.append(xed[i%nside])\n",
    "            corner_ra.append(xed[i%nside+1])\n",
    "            corner_cth.append(yed[i//nside])\n",
    "            corner_cth.append(yed[i//nside])\n",
    "            corner_cth.append(yed[i//nside+1])\n",
    "            corner_cth.append(yed[i//nside+1])\n",
    "        corner_ra = np.array(corner_ra)\n",
    "        corner_cth = np.array(corner_cth)\n",
    "        corner_dec = np.arcsin(corner_cth)*180/np.pi\n",
    "    # set up basemap\n",
    "    m = Basemap(projection=projection, lon_0=90, resolution='l', celestial=True)\n",
    "    m.drawmeridians(np.arange(0, 360, 60), labels=[0,0,1,0], labelstyle='+/-')\n",
    "    m.drawparallels(np.arange(-90, 90, 15), labels=[1,0,0,0], labelstyle='+/-')\n",
    "    m.drawmapboundary()\n",
    "    # convert sky coords to map coords \n",
    "    x,y = m(corner_ra, corner_dec)\n",
    "    # regroup into pixel corners\n",
    "    verts = np.array([x.reshape(-1,4), y.reshape(-1,4)]).transpose(1,2,0)\n",
    "    # Make the collection and add it to the plot.\n",
    "    coll = PolyCollection(verts, array=values, cmap=cmap, norm=norm, edgecolors='none')\n",
    "    plt.gca().add_collection(coll)\n",
    "    plt.gca().autoscale_view()\n",
    "    if not hide_galactic_plane:\n",
    "        # generate vector in galactic coordinates and convert to equatorial coordinates\n",
    "        galactic_l = np.linspace(0, 2*np.pi, 1000)\n",
    "        galactic_plane = SkyCoord(l=galactic_l*u.radian, b=np.zeros_like(galactic_l)*u.radian, frame='galactic').fk5\n",
    "        # project to map coordinates\n",
    "        galactic_x, galactic_y = m(galactic_plane.ra.degree, galactic_plane.dec.degree)\n",
    "        m.scatter(galactic_x, galactic_y, marker='.', s=2, c='k')\n",
    "    # Add a colorbar for the PolyCollection\n",
    "    plt.colorbar(coll, orientation='horizontal', pad=0.01, aspect=40, label=label)\n",
    "    return m"
   ]
  },
  {
   "cell_type": "code",
   "execution_count": null,
   "metadata": {
    "collapsed": false
   },
   "outputs": [],
   "source": [
    "ra = 360*np.random.random(100)\n",
    "dec = -1+2*np.random.random(100)\n",
    "plot_sky(ra,dec,healpy=True, nside=2)"
   ]
  },
  {
   "cell_type": "code",
   "execution_count": null,
   "metadata": {
    "collapsed": true
   },
   "outputs": [],
   "source": []
  }
 ],
 "metadata": {
  "anaconda-cloud": {},
  "kernelspec": {
   "display_name": "Python 2",
   "language": "python",
   "name": "python2"
  },
  "language_info": {
   "codemirror_mode": {
    "name": "ipython",
    "version": 2
   },
   "file_extension": ".py",
   "mimetype": "text/x-python",
   "name": "python",
   "nbconvert_exporter": "python",
   "pygments_lexer": "ipython2",
   "version": "2.7.12"
  }
 },
 "nbformat": 4,
 "nbformat_minor": 0
}
